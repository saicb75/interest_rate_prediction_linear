{
 "cells": [
  {
   "cell_type": "code",
   "execution_count": 515,
   "metadata": {},
   "outputs": [],
   "source": [
    "import numpy as np\n",
    "import pandas as pd\n",
    "\n",
    "import matplotlib.pyplot as plt\n",
    "\n",
    "\n"
   ]
  },
  {
   "cell_type": "markdown",
   "metadata": {},
   "source": [
    "# Given the loan details of few Customers  predict interest for the new customers"
   ]
  },
  {
   "cell_type": "code",
   "execution_count": 567,
   "metadata": {},
   "outputs": [
    {
     "data": {
      "text/html": [
       "<div>\n",
       "<style scoped>\n",
       "    .dataframe tbody tr th:only-of-type {\n",
       "        vertical-align: middle;\n",
       "    }\n",
       "\n",
       "    .dataframe tbody tr th {\n",
       "        vertical-align: top;\n",
       "    }\n",
       "\n",
       "    .dataframe thead th {\n",
       "        text-align: right;\n",
       "    }\n",
       "</style>\n",
       "<table border=\"1\" class=\"dataframe\">\n",
       "  <thead>\n",
       "    <tr style=\"text-align: right;\">\n",
       "      <th></th>\n",
       "      <th>ID</th>\n",
       "      <th>Amount.Requested</th>\n",
       "      <th>Amount.Funded.By.Investors</th>\n",
       "      <th>Interest.Rate</th>\n",
       "      <th>Loan.Length</th>\n",
       "      <th>Loan.Purpose</th>\n",
       "      <th>Debt.To.Income.Ratio</th>\n",
       "      <th>State</th>\n",
       "      <th>Home.Ownership</th>\n",
       "      <th>Monthly.Income</th>\n",
       "      <th>FICO.Range</th>\n",
       "      <th>Open.CREDIT.Lines</th>\n",
       "      <th>Revolving.CREDIT.Balance</th>\n",
       "      <th>Inquiries.in.the.Last.6.Months</th>\n",
       "      <th>Employment.Length</th>\n",
       "    </tr>\n",
       "  </thead>\n",
       "  <tbody>\n",
       "    <tr>\n",
       "      <th>0</th>\n",
       "      <td>79542.0</td>\n",
       "      <td>25000</td>\n",
       "      <td>25000</td>\n",
       "      <td>18.49%</td>\n",
       "      <td>60 months</td>\n",
       "      <td>debt_consolidation</td>\n",
       "      <td>27.56%</td>\n",
       "      <td>VA</td>\n",
       "      <td>MORTGAGE</td>\n",
       "      <td>8606.56</td>\n",
       "      <td>720-724</td>\n",
       "      <td>11</td>\n",
       "      <td>15210</td>\n",
       "      <td>3.0</td>\n",
       "      <td>5 years</td>\n",
       "    </tr>\n",
       "    <tr>\n",
       "      <th>1</th>\n",
       "      <td>75473.0</td>\n",
       "      <td>19750</td>\n",
       "      <td>19750</td>\n",
       "      <td>17.27%</td>\n",
       "      <td>60 months</td>\n",
       "      <td>debt_consolidation</td>\n",
       "      <td>13.39%</td>\n",
       "      <td>NY</td>\n",
       "      <td>MORTGAGE</td>\n",
       "      <td>6737.50</td>\n",
       "      <td>710-714</td>\n",
       "      <td>14</td>\n",
       "      <td>19070</td>\n",
       "      <td>3.0</td>\n",
       "      <td>4 years</td>\n",
       "    </tr>\n",
       "    <tr>\n",
       "      <th>2</th>\n",
       "      <td>67265.0</td>\n",
       "      <td>2100</td>\n",
       "      <td>2100</td>\n",
       "      <td>14.33%</td>\n",
       "      <td>36 months</td>\n",
       "      <td>major_purchase</td>\n",
       "      <td>3.50%</td>\n",
       "      <td>LA</td>\n",
       "      <td>OWN</td>\n",
       "      <td>1000.00</td>\n",
       "      <td>690-694</td>\n",
       "      <td>13</td>\n",
       "      <td>893</td>\n",
       "      <td>1.0</td>\n",
       "      <td>&lt; 1 year</td>\n",
       "    </tr>\n",
       "    <tr>\n",
       "      <th>3</th>\n",
       "      <td>80167.0</td>\n",
       "      <td>28000</td>\n",
       "      <td>28000</td>\n",
       "      <td>16.29%</td>\n",
       "      <td>36 months</td>\n",
       "      <td>credit_card</td>\n",
       "      <td>19.62%</td>\n",
       "      <td>NV</td>\n",
       "      <td>MORTGAGE</td>\n",
       "      <td>7083.33</td>\n",
       "      <td>710-714</td>\n",
       "      <td>12</td>\n",
       "      <td>38194</td>\n",
       "      <td>1.0</td>\n",
       "      <td>10+ years</td>\n",
       "    </tr>\n",
       "    <tr>\n",
       "      <th>4</th>\n",
       "      <td>17240.0</td>\n",
       "      <td>24250</td>\n",
       "      <td>17431.82</td>\n",
       "      <td>12.23%</td>\n",
       "      <td>60 months</td>\n",
       "      <td>credit_card</td>\n",
       "      <td>23.79%</td>\n",
       "      <td>OH</td>\n",
       "      <td>MORTGAGE</td>\n",
       "      <td>5833.33</td>\n",
       "      <td>730-734</td>\n",
       "      <td>6</td>\n",
       "      <td>31061</td>\n",
       "      <td>2.0</td>\n",
       "      <td>10+ years</td>\n",
       "    </tr>\n",
       "    <tr>\n",
       "      <th>...</th>\n",
       "      <td>...</td>\n",
       "      <td>...</td>\n",
       "      <td>...</td>\n",
       "      <td>...</td>\n",
       "      <td>...</td>\n",
       "      <td>...</td>\n",
       "      <td>...</td>\n",
       "      <td>...</td>\n",
       "      <td>...</td>\n",
       "      <td>...</td>\n",
       "      <td>...</td>\n",
       "      <td>...</td>\n",
       "      <td>...</td>\n",
       "      <td>...</td>\n",
       "      <td>...</td>\n",
       "    </tr>\n",
       "    <tr>\n",
       "      <th>2195</th>\n",
       "      <td>74047.0</td>\n",
       "      <td>30000</td>\n",
       "      <td>30000</td>\n",
       "      <td>23.28%</td>\n",
       "      <td>60 months</td>\n",
       "      <td>other</td>\n",
       "      <td>12.10%</td>\n",
       "      <td>IL</td>\n",
       "      <td>MORTGAGE</td>\n",
       "      <td>7083.33</td>\n",
       "      <td>675-679</td>\n",
       "      <td>16</td>\n",
       "      <td>17969</td>\n",
       "      <td>1.0</td>\n",
       "      <td>10+ years</td>\n",
       "    </tr>\n",
       "    <tr>\n",
       "      <th>2196</th>\n",
       "      <td>63768.0</td>\n",
       "      <td>4200</td>\n",
       "      <td>4200</td>\n",
       "      <td>14.33%</td>\n",
       "      <td>60 months</td>\n",
       "      <td>car</td>\n",
       "      <td>14.16%</td>\n",
       "      <td>NJ</td>\n",
       "      <td>RENT</td>\n",
       "      <td>3850.00</td>\n",
       "      <td>700-704</td>\n",
       "      <td>4</td>\n",
       "      <td>5718</td>\n",
       "      <td>0.0</td>\n",
       "      <td>2 years</td>\n",
       "    </tr>\n",
       "    <tr>\n",
       "      <th>2197</th>\n",
       "      <td>94545.0</td>\n",
       "      <td>19800</td>\n",
       "      <td>19775</td>\n",
       "      <td>15.31%</td>\n",
       "      <td>60 months</td>\n",
       "      <td>debt_consolidation</td>\n",
       "      <td>15.03%</td>\n",
       "      <td>IL</td>\n",
       "      <td>MORTGAGE</td>\n",
       "      <td>6666.67</td>\n",
       "      <td>675-679</td>\n",
       "      <td>10</td>\n",
       "      <td>46879</td>\n",
       "      <td>3.0</td>\n",
       "      <td>6 years</td>\n",
       "    </tr>\n",
       "    <tr>\n",
       "      <th>2198</th>\n",
       "      <td>53635.0</td>\n",
       "      <td>18000</td>\n",
       "      <td>18000</td>\n",
       "      <td>20.99%</td>\n",
       "      <td>60 months</td>\n",
       "      <td>credit_card</td>\n",
       "      <td>11.63%</td>\n",
       "      <td>CA</td>\n",
       "      <td>RENT</td>\n",
       "      <td>9051.83</td>\n",
       "      <td>670-674</td>\n",
       "      <td>5</td>\n",
       "      <td>32394</td>\n",
       "      <td>2.0</td>\n",
       "      <td>4 years</td>\n",
       "    </tr>\n",
       "    <tr>\n",
       "      <th>2199</th>\n",
       "      <td>67953.0</td>\n",
       "      <td>7550</td>\n",
       "      <td>7550</td>\n",
       "      <td>10.16%</td>\n",
       "      <td>36 months</td>\n",
       "      <td>debt_consolidation</td>\n",
       "      <td>3.83%</td>\n",
       "      <td>CA</td>\n",
       "      <td>MORTGAGE</td>\n",
       "      <td>8333.33</td>\n",
       "      <td>710-714</td>\n",
       "      <td>10</td>\n",
       "      <td>10204</td>\n",
       "      <td>0.0</td>\n",
       "      <td>2 years</td>\n",
       "    </tr>\n",
       "  </tbody>\n",
       "</table>\n",
       "<p>2200 rows × 15 columns</p>\n",
       "</div>"
      ],
      "text/plain": [
       "           ID Amount.Requested Amount.Funded.By.Investors Interest.Rate  \\\n",
       "0     79542.0            25000                      25000        18.49%   \n",
       "1     75473.0            19750                      19750        17.27%   \n",
       "2     67265.0             2100                       2100        14.33%   \n",
       "3     80167.0            28000                      28000        16.29%   \n",
       "4     17240.0            24250                   17431.82        12.23%   \n",
       "...       ...              ...                        ...           ...   \n",
       "2195  74047.0            30000                      30000        23.28%   \n",
       "2196  63768.0             4200                       4200        14.33%   \n",
       "2197  94545.0            19800                      19775        15.31%   \n",
       "2198  53635.0            18000                      18000        20.99%   \n",
       "2199  67953.0             7550                       7550        10.16%   \n",
       "\n",
       "     Loan.Length        Loan.Purpose Debt.To.Income.Ratio State  \\\n",
       "0      60 months  debt_consolidation               27.56%    VA   \n",
       "1      60 months  debt_consolidation               13.39%    NY   \n",
       "2      36 months      major_purchase                3.50%    LA   \n",
       "3      36 months         credit_card               19.62%    NV   \n",
       "4      60 months         credit_card               23.79%    OH   \n",
       "...          ...                 ...                  ...   ...   \n",
       "2195   60 months               other               12.10%    IL   \n",
       "2196   60 months                 car               14.16%    NJ   \n",
       "2197   60 months  debt_consolidation               15.03%    IL   \n",
       "2198   60 months         credit_card               11.63%    CA   \n",
       "2199   36 months  debt_consolidation                3.83%    CA   \n",
       "\n",
       "     Home.Ownership  Monthly.Income FICO.Range Open.CREDIT.Lines  \\\n",
       "0          MORTGAGE         8606.56    720-724                11   \n",
       "1          MORTGAGE         6737.50    710-714                14   \n",
       "2               OWN         1000.00    690-694                13   \n",
       "3          MORTGAGE         7083.33    710-714                12   \n",
       "4          MORTGAGE         5833.33    730-734                 6   \n",
       "...             ...             ...        ...               ...   \n",
       "2195       MORTGAGE         7083.33    675-679                16   \n",
       "2196           RENT         3850.00    700-704                 4   \n",
       "2197       MORTGAGE         6666.67    675-679                10   \n",
       "2198           RENT         9051.83    670-674                 5   \n",
       "2199       MORTGAGE         8333.33    710-714                10   \n",
       "\n",
       "     Revolving.CREDIT.Balance  Inquiries.in.the.Last.6.Months  \\\n",
       "0                       15210                             3.0   \n",
       "1                       19070                             3.0   \n",
       "2                         893                             1.0   \n",
       "3                       38194                             1.0   \n",
       "4                       31061                             2.0   \n",
       "...                       ...                             ...   \n",
       "2195                    17969                             1.0   \n",
       "2196                     5718                             0.0   \n",
       "2197                    46879                             3.0   \n",
       "2198                    32394                             2.0   \n",
       "2199                    10204                             0.0   \n",
       "\n",
       "     Employment.Length  \n",
       "0              5 years  \n",
       "1              4 years  \n",
       "2             < 1 year  \n",
       "3            10+ years  \n",
       "4            10+ years  \n",
       "...                ...  \n",
       "2195         10+ years  \n",
       "2196           2 years  \n",
       "2197           6 years  \n",
       "2198           4 years  \n",
       "2199           2 years  \n",
       "\n",
       "[2200 rows x 15 columns]"
      ]
     },
     "execution_count": 567,
     "metadata": {},
     "output_type": "execute_result"
    }
   ],
   "source": [
    "# Read the given csv file\n",
    "ld_train = pd.read_csv(\"C:\\\\Users\\\\saicb\\\\Downloads\\\\loan_data_train.csv\")\n",
    "ld_test = pd.read_csv(\"C:\\\\Users\\\\saicb\\\\Downloads\\\\loan_data_test.csv\")\n",
    "ld_train"
   ]
  },
  {
   "cell_type": "markdown",
   "metadata": {},
   "source": [
    "# Sanity Check"
   ]
  },
  {
   "cell_type": "code",
   "execution_count": 517,
   "metadata": {},
   "outputs": [
    {
     "name": "stdout",
     "output_type": "stream",
     "text": [
      "<class 'pandas.core.frame.DataFrame'>\n",
      "RangeIndex: 2200 entries, 0 to 2199\n",
      "Data columns (total 15 columns):\n",
      " #   Column                          Non-Null Count  Dtype  \n",
      "---  ------                          --------------  -----  \n",
      " 0   ID                              2199 non-null   float64\n",
      " 1   Amount.Requested                2199 non-null   object \n",
      " 2   Amount.Funded.By.Investors      2199 non-null   object \n",
      " 3   Interest.Rate                   2200 non-null   object \n",
      " 4   Loan.Length                     2199 non-null   object \n",
      " 5   Loan.Purpose                    2199 non-null   object \n",
      " 6   Debt.To.Income.Ratio            2199 non-null   object \n",
      " 7   State                           2199 non-null   object \n",
      " 8   Home.Ownership                  2199 non-null   object \n",
      " 9   Monthly.Income                  2197 non-null   float64\n",
      " 10  FICO.Range                      2200 non-null   object \n",
      " 11  Open.CREDIT.Lines               2196 non-null   object \n",
      " 12  Revolving.CREDIT.Balance        2197 non-null   object \n",
      " 13  Inquiries.in.the.Last.6.Months  2197 non-null   float64\n",
      " 14  Employment.Length               2131 non-null   object \n",
      "dtypes: float64(3), object(12)\n",
      "memory usage: 257.9+ KB\n"
     ]
    }
   ],
   "source": [
    "# Checking the Data shape & the data types of the coulmn in given training set\n",
    "ld_train\n",
    "ld_train.shape\n",
    "ld_train.info()"
   ]
  },
  {
   "cell_type": "code",
   "execution_count": 518,
   "metadata": {},
   "outputs": [
    {
     "name": "stdout",
     "output_type": "stream",
     "text": [
      "<class 'pandas.core.frame.DataFrame'>\n",
      "RangeIndex: 300 entries, 0 to 299\n",
      "Data columns (total 14 columns):\n",
      " #   Column                          Non-Null Count  Dtype  \n",
      "---  ------                          --------------  -----  \n",
      " 0   ID                              300 non-null    int64  \n",
      " 1   Amount.Requested                300 non-null    int64  \n",
      " 2   Amount.Funded.By.Investors      300 non-null    object \n",
      " 3   Loan.Length                     300 non-null    object \n",
      " 4   Loan.Purpose                    300 non-null    object \n",
      " 5   Debt.To.Income.Ratio            300 non-null    object \n",
      " 6   State                           300 non-null    object \n",
      " 7   Home.Ownership                  300 non-null    object \n",
      " 8   Monthly.Income                  300 non-null    float64\n",
      " 9   FICO.Range                      300 non-null    object \n",
      " 10  Open.CREDIT.Lines               300 non-null    object \n",
      " 11  Revolving.CREDIT.Balance        300 non-null    int64  \n",
      " 12  Inquiries.in.the.Last.6.Months  300 non-null    int64  \n",
      " 13  Employment.Length               291 non-null    object \n",
      "dtypes: float64(1), int64(4), object(9)\n",
      "memory usage: 32.9+ KB\n"
     ]
    }
   ],
   "source": [
    "# Checking the Data shape & the data types of the coulmn in given test set\n",
    "ld_test\n",
    "ld_test.shape\n",
    "ld_test.info()"
   ]
  },
  {
   "cell_type": "markdown",
   "metadata": {},
   "source": [
    "# EDA & Preprocessing"
   ]
  },
  {
   "cell_type": "code",
   "execution_count": 570,
   "metadata": {},
   "outputs": [
    {
     "data": {
      "text/plain": [
       "0"
      ]
     },
     "execution_count": 570,
     "metadata": {},
     "output_type": "execute_result"
    }
   ],
   "source": [
    "# Data should not have missing values\n",
    "# Data should not have string column - if there are string columns convert it to numeric\n",
    "#check for the outliers - plot the graph & check for the outliers, to overcome use capping(optional)\n",
    "#Standardize or normalize the range of numeric column(optional)\n",
    "#check for correlations & remove features which are highly correlated with each other(optional)\n",
    "ld_train['Amount.Requested'].unique()\n",
    "sum(ld_train['Amount.Requested']=='.')\n",
    "\n",
    "#numeric_cols=id_all.select_dtypes(include = np.number)`\n",
    "ld_test['Amount.Requested'].unique()\n",
    "sum(ld_test['Amount.Requested']=='.')"
   ]
  },
  {
   "cell_type": "code",
   "execution_count": 571,
   "metadata": {},
   "outputs": [
    {
     "data": {
      "text/html": [
       "<div>\n",
       "<style scoped>\n",
       "    .dataframe tbody tr th:only-of-type {\n",
       "        vertical-align: middle;\n",
       "    }\n",
       "\n",
       "    .dataframe tbody tr th {\n",
       "        vertical-align: top;\n",
       "    }\n",
       "\n",
       "    .dataframe thead th {\n",
       "        text-align: right;\n",
       "    }\n",
       "</style>\n",
       "<table border=\"1\" class=\"dataframe\">\n",
       "  <thead>\n",
       "    <tr style=\"text-align: right;\">\n",
       "      <th></th>\n",
       "      <th>ID</th>\n",
       "      <th>Amount.Requested</th>\n",
       "      <th>Amount.Funded.By.Investors</th>\n",
       "      <th>Loan.Length</th>\n",
       "      <th>Loan.Purpose</th>\n",
       "      <th>Debt.To.Income.Ratio</th>\n",
       "      <th>State</th>\n",
       "      <th>Home.Ownership</th>\n",
       "      <th>Monthly.Income</th>\n",
       "      <th>FICO.Range</th>\n",
       "      <th>Open.CREDIT.Lines</th>\n",
       "      <th>Revolving.CREDIT.Balance</th>\n",
       "      <th>Inquiries.in.the.Last.6.Months</th>\n",
       "      <th>Employment.Length</th>\n",
       "      <th>Interest.Rate</th>\n",
       "    </tr>\n",
       "  </thead>\n",
       "  <tbody>\n",
       "    <tr>\n",
       "      <th>0</th>\n",
       "      <td>20093</td>\n",
       "      <td>5000</td>\n",
       "      <td>5000</td>\n",
       "      <td>60 months</td>\n",
       "      <td>moving</td>\n",
       "      <td>12.59%</td>\n",
       "      <td>NY</td>\n",
       "      <td>RENT</td>\n",
       "      <td>4416.67</td>\n",
       "      <td>690-694</td>\n",
       "      <td>13</td>\n",
       "      <td>7686</td>\n",
       "      <td>0</td>\n",
       "      <td>&lt; 1 year</td>\n",
       "      <td>NaN</td>\n",
       "    </tr>\n",
       "    <tr>\n",
       "      <th>1</th>\n",
       "      <td>62445</td>\n",
       "      <td>18000</td>\n",
       "      <td>18000</td>\n",
       "      <td>60 months</td>\n",
       "      <td>debt_consolidation</td>\n",
       "      <td>4.93%</td>\n",
       "      <td>CA</td>\n",
       "      <td>RENT</td>\n",
       "      <td>5258.50</td>\n",
       "      <td>710-714</td>\n",
       "      <td>6</td>\n",
       "      <td>11596</td>\n",
       "      <td>0</td>\n",
       "      <td>10+ years</td>\n",
       "      <td>NaN</td>\n",
       "    </tr>\n",
       "    <tr>\n",
       "      <th>2</th>\n",
       "      <td>65248</td>\n",
       "      <td>7200</td>\n",
       "      <td>7200</td>\n",
       "      <td>60 months</td>\n",
       "      <td>debt_consolidation</td>\n",
       "      <td>25.16%</td>\n",
       "      <td>LA</td>\n",
       "      <td>MORTGAGE</td>\n",
       "      <td>3750.00</td>\n",
       "      <td>750-754</td>\n",
       "      <td>13</td>\n",
       "      <td>7283</td>\n",
       "      <td>0</td>\n",
       "      <td>6 years</td>\n",
       "      <td>NaN</td>\n",
       "    </tr>\n",
       "    <tr>\n",
       "      <th>3</th>\n",
       "      <td>81822</td>\n",
       "      <td>7200</td>\n",
       "      <td>7200</td>\n",
       "      <td>36 months</td>\n",
       "      <td>debt_consolidation</td>\n",
       "      <td>17.27%</td>\n",
       "      <td>NY</td>\n",
       "      <td>MORTGAGE</td>\n",
       "      <td>3416.67</td>\n",
       "      <td>790-794</td>\n",
       "      <td>14</td>\n",
       "      <td>4838</td>\n",
       "      <td>0</td>\n",
       "      <td>10+ years</td>\n",
       "      <td>NaN</td>\n",
       "    </tr>\n",
       "    <tr>\n",
       "      <th>4</th>\n",
       "      <td>57923</td>\n",
       "      <td>22000</td>\n",
       "      <td>22000</td>\n",
       "      <td>60 months</td>\n",
       "      <td>debt_consolidation</td>\n",
       "      <td>18.28%</td>\n",
       "      <td>MI</td>\n",
       "      <td>MORTGAGE</td>\n",
       "      <td>6083.33</td>\n",
       "      <td>720-724</td>\n",
       "      <td>9</td>\n",
       "      <td>20181</td>\n",
       "      <td>0</td>\n",
       "      <td>8 years</td>\n",
       "      <td>NaN</td>\n",
       "    </tr>\n",
       "  </tbody>\n",
       "</table>\n",
       "</div>"
      ],
      "text/plain": [
       "      ID  Amount.Requested Amount.Funded.By.Investors Loan.Length  \\\n",
       "0  20093              5000                       5000   60 months   \n",
       "1  62445             18000                      18000   60 months   \n",
       "2  65248              7200                       7200   60 months   \n",
       "3  81822              7200                       7200   36 months   \n",
       "4  57923             22000                      22000   60 months   \n",
       "\n",
       "         Loan.Purpose Debt.To.Income.Ratio State Home.Ownership  \\\n",
       "0              moving               12.59%    NY           RENT   \n",
       "1  debt_consolidation                4.93%    CA           RENT   \n",
       "2  debt_consolidation               25.16%    LA       MORTGAGE   \n",
       "3  debt_consolidation               17.27%    NY       MORTGAGE   \n",
       "4  debt_consolidation               18.28%    MI       MORTGAGE   \n",
       "\n",
       "   Monthly.Income FICO.Range Open.CREDIT.Lines  Revolving.CREDIT.Balance  \\\n",
       "0         4416.67    690-694                13                      7686   \n",
       "1         5258.50    710-714                 6                     11596   \n",
       "2         3750.00    750-754                13                      7283   \n",
       "3         3416.67    790-794                14                      4838   \n",
       "4         6083.33    720-724                 9                     20181   \n",
       "\n",
       "   Inquiries.in.the.Last.6.Months Employment.Length  Interest.Rate  \n",
       "0                               0          < 1 year            NaN  \n",
       "1                               0         10+ years            NaN  \n",
       "2                               0           6 years            NaN  \n",
       "3                               0         10+ years            NaN  \n",
       "4                               0           8 years            NaN  "
      ]
     },
     "execution_count": 571,
     "metadata": {},
     "output_type": "execute_result"
    }
   ],
   "source": [
    "ld_test['Interest.Rate']=np.nan\n",
    "ld_test.head()\n"
   ]
  },
  {
   "cell_type": "code",
   "execution_count": 572,
   "metadata": {},
   "outputs": [
    {
     "data": {
      "text/html": [
       "<div>\n",
       "<style scoped>\n",
       "    .dataframe tbody tr th:only-of-type {\n",
       "        vertical-align: middle;\n",
       "    }\n",
       "\n",
       "    .dataframe tbody tr th {\n",
       "        vertical-align: top;\n",
       "    }\n",
       "\n",
       "    .dataframe thead th {\n",
       "        text-align: right;\n",
       "    }\n",
       "</style>\n",
       "<table border=\"1\" class=\"dataframe\">\n",
       "  <thead>\n",
       "    <tr style=\"text-align: right;\">\n",
       "      <th></th>\n",
       "      <th>ID</th>\n",
       "      <th>Amount.Requested</th>\n",
       "      <th>Amount.Funded.By.Investors</th>\n",
       "      <th>Interest.Rate</th>\n",
       "      <th>Loan.Length</th>\n",
       "      <th>Loan.Purpose</th>\n",
       "      <th>Debt.To.Income.Ratio</th>\n",
       "      <th>State</th>\n",
       "      <th>Home.Ownership</th>\n",
       "      <th>Monthly.Income</th>\n",
       "      <th>FICO.Range</th>\n",
       "      <th>Open.CREDIT.Lines</th>\n",
       "      <th>Revolving.CREDIT.Balance</th>\n",
       "      <th>Inquiries.in.the.Last.6.Months</th>\n",
       "      <th>Employment.Length</th>\n",
       "    </tr>\n",
       "  </thead>\n",
       "  <tbody>\n",
       "    <tr>\n",
       "      <th>0</th>\n",
       "      <td>79542.0</td>\n",
       "      <td>25000</td>\n",
       "      <td>25000</td>\n",
       "      <td>18.49%</td>\n",
       "      <td>60 months</td>\n",
       "      <td>debt_consolidation</td>\n",
       "      <td>27.56%</td>\n",
       "      <td>VA</td>\n",
       "      <td>MORTGAGE</td>\n",
       "      <td>8606.56</td>\n",
       "      <td>720-724</td>\n",
       "      <td>11</td>\n",
       "      <td>15210</td>\n",
       "      <td>3.0</td>\n",
       "      <td>5 years</td>\n",
       "    </tr>\n",
       "    <tr>\n",
       "      <th>1</th>\n",
       "      <td>75473.0</td>\n",
       "      <td>19750</td>\n",
       "      <td>19750</td>\n",
       "      <td>17.27%</td>\n",
       "      <td>60 months</td>\n",
       "      <td>debt_consolidation</td>\n",
       "      <td>13.39%</td>\n",
       "      <td>NY</td>\n",
       "      <td>MORTGAGE</td>\n",
       "      <td>6737.50</td>\n",
       "      <td>710-714</td>\n",
       "      <td>14</td>\n",
       "      <td>19070</td>\n",
       "      <td>3.0</td>\n",
       "      <td>4 years</td>\n",
       "    </tr>\n",
       "    <tr>\n",
       "      <th>2</th>\n",
       "      <td>67265.0</td>\n",
       "      <td>2100</td>\n",
       "      <td>2100</td>\n",
       "      <td>14.33%</td>\n",
       "      <td>36 months</td>\n",
       "      <td>major_purchase</td>\n",
       "      <td>3.50%</td>\n",
       "      <td>LA</td>\n",
       "      <td>OWN</td>\n",
       "      <td>1000.00</td>\n",
       "      <td>690-694</td>\n",
       "      <td>13</td>\n",
       "      <td>893</td>\n",
       "      <td>1.0</td>\n",
       "      <td>&lt; 1 year</td>\n",
       "    </tr>\n",
       "    <tr>\n",
       "      <th>3</th>\n",
       "      <td>80167.0</td>\n",
       "      <td>28000</td>\n",
       "      <td>28000</td>\n",
       "      <td>16.29%</td>\n",
       "      <td>36 months</td>\n",
       "      <td>credit_card</td>\n",
       "      <td>19.62%</td>\n",
       "      <td>NV</td>\n",
       "      <td>MORTGAGE</td>\n",
       "      <td>7083.33</td>\n",
       "      <td>710-714</td>\n",
       "      <td>12</td>\n",
       "      <td>38194</td>\n",
       "      <td>1.0</td>\n",
       "      <td>10+ years</td>\n",
       "    </tr>\n",
       "    <tr>\n",
       "      <th>4</th>\n",
       "      <td>17240.0</td>\n",
       "      <td>24250</td>\n",
       "      <td>17431.82</td>\n",
       "      <td>12.23%</td>\n",
       "      <td>60 months</td>\n",
       "      <td>credit_card</td>\n",
       "      <td>23.79%</td>\n",
       "      <td>OH</td>\n",
       "      <td>MORTGAGE</td>\n",
       "      <td>5833.33</td>\n",
       "      <td>730-734</td>\n",
       "      <td>6</td>\n",
       "      <td>31061</td>\n",
       "      <td>2.0</td>\n",
       "      <td>10+ years</td>\n",
       "    </tr>\n",
       "  </tbody>\n",
       "</table>\n",
       "</div>"
      ],
      "text/plain": [
       "        ID Amount.Requested Amount.Funded.By.Investors Interest.Rate  \\\n",
       "0  79542.0            25000                      25000        18.49%   \n",
       "1  75473.0            19750                      19750        17.27%   \n",
       "2  67265.0             2100                       2100        14.33%   \n",
       "3  80167.0            28000                      28000        16.29%   \n",
       "4  17240.0            24250                   17431.82        12.23%   \n",
       "\n",
       "  Loan.Length        Loan.Purpose Debt.To.Income.Ratio State Home.Ownership  \\\n",
       "0   60 months  debt_consolidation               27.56%    VA       MORTGAGE   \n",
       "1   60 months  debt_consolidation               13.39%    NY       MORTGAGE   \n",
       "2   36 months      major_purchase                3.50%    LA            OWN   \n",
       "3   36 months         credit_card               19.62%    NV       MORTGAGE   \n",
       "4   60 months         credit_card               23.79%    OH       MORTGAGE   \n",
       "\n",
       "   Monthly.Income FICO.Range Open.CREDIT.Lines Revolving.CREDIT.Balance  \\\n",
       "0         8606.56    720-724                11                    15210   \n",
       "1         6737.50    710-714                14                    19070   \n",
       "2         1000.00    690-694                13                      893   \n",
       "3         7083.33    710-714                12                    38194   \n",
       "4         5833.33    730-734                 6                    31061   \n",
       "\n",
       "   Inquiries.in.the.Last.6.Months Employment.Length  \n",
       "0                             3.0           5 years  \n",
       "1                             3.0           4 years  \n",
       "2                             1.0          < 1 year  \n",
       "3                             1.0         10+ years  \n",
       "4                             2.0         10+ years  "
      ]
     },
     "execution_count": 572,
     "metadata": {},
     "output_type": "execute_result"
    }
   ],
   "source": [
    "ld_train.head()"
   ]
  },
  {
   "cell_type": "code",
   "execution_count": 573,
   "metadata": {},
   "outputs": [
    {
     "name": "stdout",
     "output_type": "stream",
     "text": [
      "      ID  Amount.Requested Amount.Funded.By.Investors  Interest.Rate  \\\n",
      "0  20093              5000                       5000            NaN   \n",
      "1  62445             18000                      18000            NaN   \n",
      "2  65248              7200                       7200            NaN   \n",
      "3  81822              7200                       7200            NaN   \n",
      "4  57923             22000                      22000            NaN   \n",
      "\n",
      "  Loan.Length        Loan.Purpose Debt.To.Income.Ratio State Home.Ownership  \\\n",
      "0   60 months              moving               12.59%    NY           RENT   \n",
      "1   60 months  debt_consolidation                4.93%    CA           RENT   \n",
      "2   60 months  debt_consolidation               25.16%    LA       MORTGAGE   \n",
      "3   36 months  debt_consolidation               17.27%    NY       MORTGAGE   \n",
      "4   60 months  debt_consolidation               18.28%    MI       MORTGAGE   \n",
      "\n",
      "   Monthly.Income FICO.Range Open.CREDIT.Lines  Revolving.CREDIT.Balance  \\\n",
      "0         4416.67    690-694                13                      7686   \n",
      "1         5258.50    710-714                 6                     11596   \n",
      "2         3750.00    750-754                13                      7283   \n",
      "3         3416.67    790-794                14                      4838   \n",
      "4         6083.33    720-724                 9                     20181   \n",
      "\n",
      "   Inquiries.in.the.Last.6.Months Employment.Length  data  \n",
      "0                               0          < 1 year  test  \n",
      "1                               0         10+ years  test  \n",
      "2                               0           6 years  test  \n",
      "3                               0         10+ years  test  \n",
      "4                               0           8 years  test  \n"
     ]
    },
    {
     "data": {
      "text/plain": [
       "ID                                float64\n",
       "Amount.Requested                   object\n",
       "Amount.Funded.By.Investors         object\n",
       "Interest.Rate                      object\n",
       "Loan.Length                        object\n",
       "Loan.Purpose                       object\n",
       "Debt.To.Income.Ratio               object\n",
       "State                              object\n",
       "Home.Ownership                     object\n",
       "Monthly.Income                    float64\n",
       "FICO.Range                         object\n",
       "Open.CREDIT.Lines                  object\n",
       "Revolving.CREDIT.Balance           object\n",
       "Inquiries.in.the.Last.6.Months    float64\n",
       "Employment.Length                  object\n",
       "data                               object\n",
       "dtype: object"
      ]
     },
     "execution_count": 573,
     "metadata": {},
     "output_type": "execute_result"
    }
   ],
   "source": [
    "#Combining Train & Test Data\n",
    "\n",
    "ld_test['Interest.Rate']=np.nan\n",
    "ld_train['data'] = 'train'\n",
    "ld_test['data'] = 'test'\n",
    "ld_test =ld_test[ld_train.columns]\n",
    "# print(ld_test.head())\n",
    "\n",
    "ld_all=pd.concat([ld_train, ld_test],axis=0)\n",
    "ld_all.shape, ld_train.shape, ld_test.shape\n",
    "\n",
    "ld_all.head()\n",
    "ld_all.dtypes"
   ]
  },
  {
   "cell_type": "code",
   "execution_count": 521,
   "metadata": {},
   "outputs": [],
   "source": [
    "# ID,Amount.Funded.By.Investors : drop \n",
    "# Interest Rate , Debt to income ratio : remove % and then to numeric\n",
    "# Amount.Requested , 'Open.CREDIT.Lines','Revolving.CREDIT.Balance': convert it to numeric \n",
    "# FICO.Range : replace it by a numeric column which is average of the range\n",
    "# Employment Length : convert to number\n",
    "# Loan Lenth, Loan Purpose , State , Home ownership: dummies for categories with good occurence rate"
   ]
  },
  {
   "cell_type": "code",
   "execution_count": 522,
   "metadata": {},
   "outputs": [
    {
     "data": {
      "text/plain": [
       "Amount.Requested                   object\n",
       "Interest.Rate                      object\n",
       "Loan.Length                        object\n",
       "Loan.Purpose                       object\n",
       "Debt.To.Income.Ratio               object\n",
       "State                              object\n",
       "Home.Ownership                     object\n",
       "Monthly.Income                    float64\n",
       "FICO.Range                         object\n",
       "Open.CREDIT.Lines                  object\n",
       "Revolving.CREDIT.Balance           object\n",
       "Inquiries.in.the.Last.6.Months    float64\n",
       "Employment.Length                  object\n",
       "data                               object\n",
       "dtype: object"
      ]
     },
     "execution_count": 522,
     "metadata": {},
     "output_type": "execute_result"
    }
   ],
   "source": [
    "# ID,Amount.Funded.By.Investors : drop \n",
    "ld_all.drop(['ID','Amount.Funded.By.Investors'],axis=1,inplace=True)\n",
    "ld_all.dtypes"
   ]
  },
  {
   "cell_type": "code",
   "execution_count": 523,
   "metadata": {},
   "outputs": [
    {
     "data": {
      "text/plain": [
       "Amount.Requested                   object\n",
       "Interest.Rate                     float64\n",
       "Loan.Length                        object\n",
       "Loan.Purpose                       object\n",
       "Debt.To.Income.Ratio              float64\n",
       "State                              object\n",
       "Home.Ownership                     object\n",
       "Monthly.Income                    float64\n",
       "FICO.Range                         object\n",
       "Open.CREDIT.Lines                  object\n",
       "Revolving.CREDIT.Balance           object\n",
       "Inquiries.in.the.Last.6.Months    float64\n",
       "Employment.Length                  object\n",
       "data                               object\n",
       "dtype: object"
      ]
     },
     "execution_count": 523,
     "metadata": {},
     "output_type": "execute_result"
    }
   ],
   "source": [
    "#Removing the percentage symbol from Interest Rate & Debt to income ratio\n",
    "ld_all['Interest.Rate']\n",
    "ld_all['Debt.To.Income.Ratio']\n",
    "\n",
    " \n",
    "for column in ['Interest.Rate','Debt.To.Income.Ratio']:\n",
    "    ld_all[column] = ld_all[column].str.replace('%','')\n",
    "    ld_all[column] = pd.to_numeric(ld_all[column],errors='coerce') ## for all the values in the column, try to convert to numerld_all.dtypes\n",
    "\n",
    "ld_all.dtypes  "
   ]
  },
  {
   "cell_type": "code",
   "execution_count": 524,
   "metadata": {},
   "outputs": [
    {
     "data": {
      "text/plain": [
       "Amount.Requested                  float64\n",
       "Interest.Rate                     float64\n",
       "Loan.Length                        object\n",
       "Loan.Purpose                       object\n",
       "Debt.To.Income.Ratio              float64\n",
       "State                              object\n",
       "Home.Ownership                     object\n",
       "Monthly.Income                    float64\n",
       "FICO.Range                         object\n",
       "Open.CREDIT.Lines                 float64\n",
       "Revolving.CREDIT.Balance          float64\n",
       "Inquiries.in.the.Last.6.Months    float64\n",
       "Employment.Length                  object\n",
       "data                               object\n",
       "dtype: object"
      ]
     },
     "execution_count": 524,
     "metadata": {},
     "output_type": "execute_result"
    }
   ],
   "source": [
    "# Amount.Requested , 'Open.CREDIT.Lines','Revolving.CREDIT.Balance': convert it to numeric \n",
    "for col in [ 'Amount.Requested' , 'Open.CREDIT.Lines','Revolving.CREDIT.Balance']:\n",
    "    ld_all[col]=pd.to_numeric(ld_all[col],errors='coerce')\n",
    "ld_all.dtypes\n"
   ]
  },
  {
   "cell_type": "code",
   "execution_count": 525,
   "metadata": {},
   "outputs": [
    {
     "data": {
      "text/plain": [
       "Amount.Requested                  float64\n",
       "Interest.Rate                     float64\n",
       "Loan.Length                        object\n",
       "Loan.Purpose                       object\n",
       "Debt.To.Income.Ratio              float64\n",
       "State                              object\n",
       "Home.Ownership                     object\n",
       "Monthly.Income                    float64\n",
       "Open.CREDIT.Lines                 float64\n",
       "Revolving.CREDIT.Balance          float64\n",
       "Inquiries.in.the.Last.6.Months    float64\n",
       "Employment.Length                  object\n",
       "data                               object\n",
       "fico                              float64\n",
       "dtype: object"
      ]
     },
     "execution_count": 525,
     "metadata": {},
     "output_type": "execute_result"
    }
   ],
   "source": [
    "##### Treating the FICO Range ######\n",
    "\n",
    "\n",
    "k=ld_all['FICO.Range'].str.split(\"-\",expand=True).astype(float)\n",
    "\n",
    "ld_all['fico']=0.5*(k[0]+k[1])\n",
    "\n",
    "del ld_all['FICO.Range']\n",
    "ld_all.dtypes"
   ]
  },
  {
   "cell_type": "code",
   "execution_count": 526,
   "metadata": {},
   "outputs": [
    {
     "data": {
      "text/plain": [
       "10+ years    653\n",
       "< 1 year     249\n",
       "2 years      243\n",
       "3 years      235\n",
       "5 years      202\n",
       "4 years      191\n",
       "1 year       177\n",
       "6 years      163\n",
       "7 years      127\n",
       "8 years      108\n",
       "9 years       72\n",
       ".              2\n",
       "Name: Employment.Length, dtype: int64"
      ]
     },
     "execution_count": 526,
     "metadata": {},
     "output_type": "execute_result"
    }
   ],
   "source": [
    "ld_all['Employment.Length'].value_counts()"
   ]
  },
  {
   "cell_type": "code",
   "execution_count": 527,
   "metadata": {},
   "outputs": [],
   "source": [
    "#ld_all['Employment_Length']=ld_all['Employment_Length'].str.replace('.','10')\n",
    "#ld_all['Employment_Length']=ld_all['Employment_Length'].str.replace('years','')\n",
    "#ld_all['Employment_Length']=ld_all['Employment_Length'].str.replace('year','')\n",
    "#ld_all['Employment_Length']=ld_all['Employment_Length'].str.replace('10+','10')\n",
    "#ld_all['Employment_Length']=ld_all['Employment_Length'].str.replace('<1','0.5')\n",
    "\n",
    "#ld_all['Employment.Length'] = pd.to_numeric(ld_all['Employment.Length'],errors = 'coerce')\n",
    "\n",
    "\n"
   ]
  },
  {
   "cell_type": "markdown",
   "metadata": {},
   "source": []
  },
  {
   "cell_type": "code",
   "execution_count": 528,
   "metadata": {},
   "outputs": [],
   "source": [
    "ld_all['Employment.Length']=ld_all['Employment.Length'].str.replace('.',\"10\")\n",
    "\n",
    "ld_all['Employment.Length']=ld_all['Employment.Length'].str.replace('years',\"\")\n",
    "\n",
    "ld_all['Employment.Length']=ld_all['Employment.Length'].str.replace('year',\"\")\n",
    "\n",
    "ld_all['Employment.Length']=ld_all['Employment.Length'].str.replace('10\\+',\"10\")\n",
    "\n",
    "ld_all['Employment.Length']=ld_all['Employment.Length'].str.replace('< 1',\"0.5\")\n",
    "\n",
    "ld_all['Employment.Length'] = pd.to_numeric(ld_all['Employment.Length'],errors = 'coerce')"
   ]
  },
  {
   "cell_type": "code",
   "execution_count": 529,
   "metadata": {},
   "outputs": [
    {
     "data": {
      "text/html": [
       "<div>\n",
       "<style scoped>\n",
       "    .dataframe tbody tr th:only-of-type {\n",
       "        vertical-align: middle;\n",
       "    }\n",
       "\n",
       "    .dataframe tbody tr th {\n",
       "        vertical-align: top;\n",
       "    }\n",
       "\n",
       "    .dataframe thead th {\n",
       "        text-align: right;\n",
       "    }\n",
       "</style>\n",
       "<table border=\"1\" class=\"dataframe\">\n",
       "  <thead>\n",
       "    <tr style=\"text-align: right;\">\n",
       "      <th></th>\n",
       "      <th>Amount.Requested</th>\n",
       "      <th>Interest.Rate</th>\n",
       "      <th>Loan.Length</th>\n",
       "      <th>Loan.Purpose</th>\n",
       "      <th>Debt.To.Income.Ratio</th>\n",
       "      <th>State</th>\n",
       "      <th>Home.Ownership</th>\n",
       "      <th>Monthly.Income</th>\n",
       "      <th>Open.CREDIT.Lines</th>\n",
       "      <th>Revolving.CREDIT.Balance</th>\n",
       "      <th>Inquiries.in.the.Last.6.Months</th>\n",
       "      <th>Employment.Length</th>\n",
       "      <th>data</th>\n",
       "      <th>fico</th>\n",
       "    </tr>\n",
       "  </thead>\n",
       "  <tbody>\n",
       "    <tr>\n",
       "      <th>0</th>\n",
       "      <td>25000.0</td>\n",
       "      <td>18.49</td>\n",
       "      <td>60 months</td>\n",
       "      <td>debt_consolidation</td>\n",
       "      <td>27.56</td>\n",
       "      <td>VA</td>\n",
       "      <td>MORTGAGE</td>\n",
       "      <td>8606.56</td>\n",
       "      <td>11.0</td>\n",
       "      <td>15210.0</td>\n",
       "      <td>3.0</td>\n",
       "      <td>5.0</td>\n",
       "      <td>train</td>\n",
       "      <td>722.0</td>\n",
       "    </tr>\n",
       "    <tr>\n",
       "      <th>1</th>\n",
       "      <td>19750.0</td>\n",
       "      <td>17.27</td>\n",
       "      <td>60 months</td>\n",
       "      <td>debt_consolidation</td>\n",
       "      <td>13.39</td>\n",
       "      <td>NY</td>\n",
       "      <td>MORTGAGE</td>\n",
       "      <td>6737.50</td>\n",
       "      <td>14.0</td>\n",
       "      <td>19070.0</td>\n",
       "      <td>3.0</td>\n",
       "      <td>4.0</td>\n",
       "      <td>train</td>\n",
       "      <td>712.0</td>\n",
       "    </tr>\n",
       "    <tr>\n",
       "      <th>2</th>\n",
       "      <td>2100.0</td>\n",
       "      <td>14.33</td>\n",
       "      <td>36 months</td>\n",
       "      <td>major_purchase</td>\n",
       "      <td>3.50</td>\n",
       "      <td>LA</td>\n",
       "      <td>OWN</td>\n",
       "      <td>1000.00</td>\n",
       "      <td>13.0</td>\n",
       "      <td>893.0</td>\n",
       "      <td>1.0</td>\n",
       "      <td>0.5</td>\n",
       "      <td>train</td>\n",
       "      <td>692.0</td>\n",
       "    </tr>\n",
       "    <tr>\n",
       "      <th>3</th>\n",
       "      <td>28000.0</td>\n",
       "      <td>16.29</td>\n",
       "      <td>36 months</td>\n",
       "      <td>credit_card</td>\n",
       "      <td>19.62</td>\n",
       "      <td>NV</td>\n",
       "      <td>MORTGAGE</td>\n",
       "      <td>7083.33</td>\n",
       "      <td>12.0</td>\n",
       "      <td>38194.0</td>\n",
       "      <td>1.0</td>\n",
       "      <td>10.0</td>\n",
       "      <td>train</td>\n",
       "      <td>712.0</td>\n",
       "    </tr>\n",
       "    <tr>\n",
       "      <th>4</th>\n",
       "      <td>24250.0</td>\n",
       "      <td>12.23</td>\n",
       "      <td>60 months</td>\n",
       "      <td>credit_card</td>\n",
       "      <td>23.79</td>\n",
       "      <td>OH</td>\n",
       "      <td>MORTGAGE</td>\n",
       "      <td>5833.33</td>\n",
       "      <td>6.0</td>\n",
       "      <td>31061.0</td>\n",
       "      <td>2.0</td>\n",
       "      <td>10.0</td>\n",
       "      <td>train</td>\n",
       "      <td>732.0</td>\n",
       "    </tr>\n",
       "  </tbody>\n",
       "</table>\n",
       "</div>"
      ],
      "text/plain": [
       "   Amount.Requested  Interest.Rate Loan.Length        Loan.Purpose  \\\n",
       "0           25000.0          18.49   60 months  debt_consolidation   \n",
       "1           19750.0          17.27   60 months  debt_consolidation   \n",
       "2            2100.0          14.33   36 months      major_purchase   \n",
       "3           28000.0          16.29   36 months         credit_card   \n",
       "4           24250.0          12.23   60 months         credit_card   \n",
       "\n",
       "   Debt.To.Income.Ratio State Home.Ownership  Monthly.Income  \\\n",
       "0                 27.56    VA       MORTGAGE         8606.56   \n",
       "1                 13.39    NY       MORTGAGE         6737.50   \n",
       "2                  3.50    LA            OWN         1000.00   \n",
       "3                 19.62    NV       MORTGAGE         7083.33   \n",
       "4                 23.79    OH       MORTGAGE         5833.33   \n",
       "\n",
       "   Open.CREDIT.Lines  Revolving.CREDIT.Balance  \\\n",
       "0               11.0                   15210.0   \n",
       "1               14.0                   19070.0   \n",
       "2               13.0                     893.0   \n",
       "3               12.0                   38194.0   \n",
       "4                6.0                   31061.0   \n",
       "\n",
       "   Inquiries.in.the.Last.6.Months  Employment.Length   data   fico  \n",
       "0                             3.0                5.0  train  722.0  \n",
       "1                             3.0                4.0  train  712.0  \n",
       "2                             1.0                0.5  train  692.0  \n",
       "3                             1.0               10.0  train  712.0  \n",
       "4                             2.0               10.0  train  732.0  "
      ]
     },
     "execution_count": 529,
     "metadata": {},
     "output_type": "execute_result"
    }
   ],
   "source": [
    "ld_all.head()"
   ]
  },
  {
   "cell_type": "code",
   "execution_count": 530,
   "metadata": {},
   "outputs": [
    {
     "data": {
      "text/plain": [
       "Amount.Requested                  float64\n",
       "Interest.Rate                     float64\n",
       "Loan.Length                        object\n",
       "Loan.Purpose                       object\n",
       "Debt.To.Income.Ratio              float64\n",
       "State                              object\n",
       "Home.Ownership                     object\n",
       "Monthly.Income                    float64\n",
       "Open.CREDIT.Lines                 float64\n",
       "Revolving.CREDIT.Balance          float64\n",
       "Inquiries.in.the.Last.6.Months    float64\n",
       "Employment.Length                 float64\n",
       "data                               object\n",
       "fico                              float64\n",
       "dtype: object"
      ]
     },
     "execution_count": 530,
     "metadata": {},
     "output_type": "execute_result"
    }
   ],
   "source": [
    "ld_all.dtypes"
   ]
  },
  {
   "cell_type": "code",
   "execution_count": 531,
   "metadata": {},
   "outputs": [
    {
     "data": {
      "text/plain": [
       "Index(['Loan.Length', 'Loan.Purpose', 'State', 'Home.Ownership', 'data'], dtype='object')"
      ]
     },
     "execution_count": 531,
     "metadata": {},
     "output_type": "execute_result"
    }
   ],
   "source": [
    "#Note that to apply string function on pandas data frame columns you need to str attribute\n",
    "cat_cols=ld_all.select_dtypes(['object']).columns\n",
    "cat_cols"
   ]
  },
  {
   "cell_type": "code",
   "execution_count": 532,
   "metadata": {},
   "outputs": [],
   "source": [
    "ld_all.loc[ld_all['Loan.Length']=='.','Loan.Length'] = '36 months'\n",
    "\n",
    "ld_all['loan_period'] = 0\n",
    "\n",
    "ld_all.loc[ld_all['Loan.Length']=='60 months','loan_period'] = 1\n",
    "\n",
    "del ld_all['Loan.Length']"
   ]
  },
  {
   "cell_type": "code",
   "execution_count": 533,
   "metadata": {},
   "outputs": [
    {
     "name": "stdout",
     "output_type": "stream",
     "text": [
      "(2500, 14)\n"
     ]
    }
   ],
   "source": [
    "#ld_all['Loan.Purpose'].value_counts()\n",
    "\n",
    "k = pd.get_dummies(ld_all['Loan.Purpose'])\n",
    "\n",
    "print(k.shape)"
   ]
  },
  {
   "cell_type": "code",
   "execution_count": 534,
   "metadata": {},
   "outputs": [],
   "source": [
    "ld_all.shape\n",
    "\n",
    "del ld_all['Loan.Purpose']\n",
    "\n",
    "ld_all = pd.concat([ld_all,k],axis=1)"
   ]
  },
  {
   "cell_type": "code",
   "execution_count": 535,
   "metadata": {},
   "outputs": [
    {
     "data": {
      "text/plain": [
       "Amount.Requested                  float64\n",
       "Interest.Rate                     float64\n",
       "Debt.To.Income.Ratio              float64\n",
       "State                              object\n",
       "Home.Ownership                     object\n",
       "Monthly.Income                    float64\n",
       "Open.CREDIT.Lines                 float64\n",
       "Revolving.CREDIT.Balance          float64\n",
       "Inquiries.in.the.Last.6.Months    float64\n",
       "Employment.Length                 float64\n",
       "data                               object\n",
       "fico                              float64\n",
       "loan_period                         int64\n",
       "car                                 uint8\n",
       "credit_card                         uint8\n",
       "debt_consolidation                  uint8\n",
       "educational                         uint8\n",
       "home_improvement                    uint8\n",
       "house                               uint8\n",
       "major_purchase                      uint8\n",
       "medical                             uint8\n",
       "moving                              uint8\n",
       "other                               uint8\n",
       "renewable_energy                    uint8\n",
       "small_business                      uint8\n",
       "vacation                            uint8\n",
       "wedding                             uint8\n",
       "dtype: object"
      ]
     },
     "execution_count": 535,
     "metadata": {},
     "output_type": "execute_result"
    }
   ],
   "source": [
    "ld_all.dtypes"
   ]
  },
  {
   "cell_type": "code",
   "execution_count": 536,
   "metadata": {},
   "outputs": [
    {
     "data": {
      "text/plain": [
       "Amount.Requested                  float64\n",
       "Interest.Rate                     float64\n",
       "Debt.To.Income.Ratio              float64\n",
       "Home.Ownership                     object\n",
       "Monthly.Income                    float64\n",
       "Open.CREDIT.Lines                 float64\n",
       "Revolving.CREDIT.Balance          float64\n",
       "Inquiries.in.the.Last.6.Months    float64\n",
       "Employment.Length                 float64\n",
       "data                               object\n",
       "fico                              float64\n",
       "loan_period                         int64\n",
       "car                                 uint8\n",
       "credit_card                         uint8\n",
       "debt_consolidation                  uint8\n",
       "educational                         uint8\n",
       "home_improvement                    uint8\n",
       "house                               uint8\n",
       "major_purchase                      uint8\n",
       "medical                             uint8\n",
       "moving                              uint8\n",
       "other                               uint8\n",
       "renewable_energy                    uint8\n",
       "small_business                      uint8\n",
       "vacation                            uint8\n",
       "wedding                             uint8\n",
       "dtype: object"
      ]
     },
     "execution_count": 536,
     "metadata": {},
     "output_type": "execute_result"
    }
   ],
   "source": [
    "del ld_all['State']\n",
    "ld_all.dtypes"
   ]
  },
  {
   "cell_type": "code",
   "execution_count": 537,
   "metadata": {},
   "outputs": [],
   "source": [
    "ld_all['Home.Ownership'].value_counts()\n",
    "\n",
    "ld_all.loc[ld_all['Home.Ownership'].isin(['OTHER','NONE']),'Home.Ownership'] = 'RENT'\n",
    "\n",
    "k = pd.get_dummies(ld_all['Home.Ownership'])\n",
    "\n",
    "del ld_all['Home.Ownership']\n",
    "\n",
    "ld_all = pd.concat([ld_all,k],axis=1)"
   ]
  },
  {
   "cell_type": "code",
   "execution_count": 538,
   "metadata": {},
   "outputs": [
    {
     "data": {
      "text/plain": [
       "(2500, 28)"
      ]
     },
     "execution_count": 538,
     "metadata": {},
     "output_type": "execute_result"
    }
   ],
   "source": [
    "ld_all.shape"
   ]
  },
  {
   "cell_type": "code",
   "execution_count": 539,
   "metadata": {},
   "outputs": [
    {
     "data": {
      "text/plain": [
       "Amount.Requested                    5\n",
       "Interest.Rate                     300\n",
       "Debt.To.Income.Ratio                1\n",
       "Monthly.Income                      3\n",
       "Open.CREDIT.Lines                   9\n",
       "Revolving.CREDIT.Balance            5\n",
       "Inquiries.in.the.Last.6.Months      3\n",
       "Employment.Length                  78\n",
       "data                                0\n",
       "fico                                0\n",
       "loan_period                         0\n",
       "car                                 0\n",
       "credit_card                         0\n",
       "debt_consolidation                  0\n",
       "educational                         0\n",
       "home_improvement                    0\n",
       "house                               0\n",
       "major_purchase                      0\n",
       "medical                             0\n",
       "moving                              0\n",
       "other                               0\n",
       "renewable_energy                    0\n",
       "small_business                      0\n",
       "vacation                            0\n",
       "wedding                             0\n",
       "MORTGAGE                            0\n",
       "OWN                                 0\n",
       "RENT                                0\n",
       "dtype: int64"
      ]
     },
     "execution_count": 539,
     "metadata": {},
     "output_type": "execute_result"
    }
   ],
   "source": [
    "ld_all.isnull().sum()"
   ]
  },
  {
   "cell_type": "code",
   "execution_count": 540,
   "metadata": {},
   "outputs": [],
   "source": [
    "for col in ld_all.columns:\n",
    "    if (col not in ['Interest.Rate','data'])& (ld_all[col].isnull().sum()>0):\n",
    "        ld_all.loc[ld_all[col].isnull(),col]=ld_all.loc[ld_all['data']=='train',col].mean()"
   ]
  },
  {
   "cell_type": "code",
   "execution_count": 541,
   "metadata": {},
   "outputs": [
    {
     "data": {
      "text/plain": [
       "Amount.Requested                    0\n",
       "Interest.Rate                     300\n",
       "Debt.To.Income.Ratio                0\n",
       "Monthly.Income                      0\n",
       "Open.CREDIT.Lines                   0\n",
       "Revolving.CREDIT.Balance            0\n",
       "Inquiries.in.the.Last.6.Months      0\n",
       "Employment.Length                   0\n",
       "data                                0\n",
       "fico                                0\n",
       "loan_period                         0\n",
       "car                                 0\n",
       "credit_card                         0\n",
       "debt_consolidation                  0\n",
       "educational                         0\n",
       "home_improvement                    0\n",
       "house                               0\n",
       "major_purchase                      0\n",
       "medical                             0\n",
       "moving                              0\n",
       "other                               0\n",
       "renewable_energy                    0\n",
       "small_business                      0\n",
       "vacation                            0\n",
       "wedding                             0\n",
       "MORTGAGE                            0\n",
       "OWN                                 0\n",
       "RENT                                0\n",
       "dtype: int64"
      ]
     },
     "execution_count": 541,
     "metadata": {},
     "output_type": "execute_result"
    }
   ],
   "source": [
    "ld_all.isnull().sum()"
   ]
  },
  {
   "cell_type": "code",
   "execution_count": 542,
   "metadata": {},
   "outputs": [
    {
     "name": "stderr",
     "output_type": "stream",
     "text": [
      "C:\\Users\\saicb\\anaconda3\\lib\\site-packages\\pandas\\core\\frame.py:4163: SettingWithCopyWarning: \n",
      "A value is trying to be set on a copy of a slice from a DataFrame\n",
      "\n",
      "See the caveats in the documentation: https://pandas.pydata.org/pandas-docs/stable/user_guide/indexing.html#returning-a-view-versus-a-copy\n",
      "  return super().drop(\n"
     ]
    }
   ],
   "source": [
    "ld_train=ld_all[ld_all['data']=='train']\n",
    "del ld_train['data']\n",
    "ld_test=ld_all[ld_all['data']=='test']\n",
    "ld_test.drop(['Interest.Rate','data'],axis=1,inplace=True)"
   ]
  },
  {
   "cell_type": "code",
   "execution_count": 543,
   "metadata": {},
   "outputs": [],
   "source": [
    "numeric_data = ld_train[['Amount.Requested', 'Interest.Rate','Debt.To.Income.Ratio',\n",
    "            'Open.CREDIT.Lines','Revolving.CREDIT.Balance']]"
   ]
  },
  {
   "cell_type": "code",
   "execution_count": 544,
   "metadata": {},
   "outputs": [
    {
     "data": {
      "image/png": "[encoded data removed]",
      "text/plain": [
       "<Figure size 216x144 with 1 Axes>"
      ]
     },
     "metadata": {
      "needs_background": "light"
     },
     "output_type": "display_data"
    }
   ],
   "source": [
    "indexes = list(numeric_data.index)\n",
    "plt.figure(figsize = (3,2))\n",
    "for cols in numeric_data:\n",
    "  plt.scatter(x = indexes,y = numeric_data[cols])"
   ]
  },
  {
   "cell_type": "code",
   "execution_count": 545,
   "metadata": {},
   "outputs": [],
   "source": [
    "del ld_all"
   ]
  },
  {
   "cell_type": "code",
   "execution_count": 546,
   "metadata": {},
   "outputs": [],
   "source": [
    "from sklearn.model_selection import train_test_split"
   ]
  },
  {
   "cell_type": "code",
   "execution_count": 547,
   "metadata": {},
   "outputs": [],
   "source": [
    "ld_train1,ld_train2=train_test_split(ld_train,test_size=0.2,random_state=2)"
   ]
  },
  {
   "cell_type": "code",
   "execution_count": 548,
   "metadata": {},
   "outputs": [],
   "source": [
    "# Notice that only train data is used for imputing missing values in both train and test \n",
    "\n",
    "x_train1=ld_train1.drop('Interest.Rate',axis=1)\n",
    "y_train1=ld_train1['Interest.Rate']"
   ]
  },
  {
   "cell_type": "code",
   "execution_count": 549,
   "metadata": {},
   "outputs": [],
   "source": [
    "from sklearn.linear_model import LinearRegression"
   ]
  },
  {
   "cell_type": "code",
   "execution_count": 550,
   "metadata": {},
   "outputs": [],
   "source": [
    "lm=LinearRegression()"
   ]
  },
  {
   "cell_type": "code",
   "execution_count": 551,
   "metadata": {},
   "outputs": [
    {
     "data": {
      "text/plain": [
       "LinearRegression()"
      ]
     },
     "execution_count": 551,
     "metadata": {},
     "output_type": "execute_result"
    }
   ],
   "source": [
    "lm.fit(x_train1,y_train1)"
   ]
  },
  {
   "cell_type": "code",
   "execution_count": 552,
   "metadata": {},
   "outputs": [
    {
     "data": {
      "text/plain": [
       "(1760, 26)"
      ]
     },
     "execution_count": 552,
     "metadata": {},
     "output_type": "execute_result"
    }
   ],
   "source": [
    "x_train1.shape"
   ]
  },
  {
   "cell_type": "code",
   "execution_count": 553,
   "metadata": {},
   "outputs": [
    {
     "data": {
      "text/plain": [
       "76.71107765280745"
      ]
     },
     "execution_count": 553,
     "metadata": {},
     "output_type": "execute_result"
    }
   ],
   "source": [
    "lm.intercept_"
   ]
  },
  {
   "cell_type": "code",
   "execution_count": 554,
   "metadata": {},
   "outputs": [
    {
     "data": {
      "text/plain": [
       "[('Amount.Requested', 0.0001557088462700363),\n",
       " ('Debt.To.Income.Ratio', -0.002753532252399038),\n",
       " ('Monthly.Income', -2.613559368415645e-05),\n",
       " ('Open.CREDIT.Lines', -0.03942689671114859),\n",
       " ('Revolving.CREDIT.Balance', -4.062027037108317e-06),\n",
       " ('Inquiries.in.the.Last.6.Months', 0.3267799787775358),\n",
       " ('Employment.Length', 0.02883593287306613),\n",
       " ('fico', -0.086920573442241),\n",
       " ('loan_period', 3.151502518181016),\n",
       " ('car', -1.1774034011336287),\n",
       " ('credit_card', -1.820769262780536),\n",
       " ('debt_consolidation', -1.6548160705847965),\n",
       " ('educational', -0.9877138719689966),\n",
       " ('home_improvement', -1.5316061013364706),\n",
       " ('house', -0.9943068006752509),\n",
       " ('major_purchase', -1.3372298631761532),\n",
       " ('medical', -1.604310106731608),\n",
       " ('moving', 0.10026623793493283),\n",
       " ('other', -0.7529972324153996),\n",
       " ('renewable_energy', -1.1871950541071923),\n",
       " ('small_business', -1.1544883522732547),\n",
       " ('vacation', -1.4801744074320913),\n",
       " ('wedding', -1.9808964682258337),\n",
       " ('MORTGAGE', -3.1330215475128997),\n",
       " ('OWN', -2.691431917318697),\n",
       " ('RENT', -2.8899306706304824)]"
      ]
     },
     "execution_count": 554,
     "metadata": {},
     "output_type": "execute_result"
    }
   ],
   "source": [
    "list(zip(x_train1.columns,lm.coef_))"
   ]
  },
  {
   "cell_type": "code",
   "execution_count": 555,
   "metadata": {},
   "outputs": [
    {
     "data": {
      "text/plain": [
       "[('Amount.Requested', 0.0001557088462700363),\n",
       " ('Debt.To.Income.Ratio', -0.002753532252399038),\n",
       " ('Monthly.Income', -2.613559368415645e-05),\n",
       " ('Open.CREDIT.Lines', -0.03942689671114859),\n",
       " ('Revolving.CREDIT.Balance', -4.062027037108317e-06),\n",
       " ('Inquiries.in.the.Last.6.Months', 0.3267799787775358),\n",
       " ('Employment.Length', 0.02883593287306613),\n",
       " ('fico', -0.086920573442241),\n",
       " ('loan_period', 3.151502518181016),\n",
       " ('car', -1.1774034011336287),\n",
       " ('credit_card', -1.820769262780536),\n",
       " ('debt_consolidation', -1.6548160705847965),\n",
       " ('educational', -0.9877138719689966),\n",
       " ('home_improvement', -1.5316061013364706),\n",
       " ('house', -0.9943068006752509),\n",
       " ('major_purchase', -1.3372298631761532),\n",
       " ('medical', -1.604310106731608),\n",
       " ('moving', 0.10026623793493283),\n",
       " ('other', -0.7529972324153996),\n",
       " ('renewable_energy', -1.1871950541071923),\n",
       " ('small_business', -1.1544883522732547),\n",
       " ('vacation', -1.4801744074320913),\n",
       " ('wedding', -1.9808964682258337),\n",
       " ('MORTGAGE', -3.1330215475128997),\n",
       " ('OWN', -2.691431917318697),\n",
       " ('RENT', -2.8899306706304824)]"
      ]
     },
     "execution_count": 555,
     "metadata": {},
     "output_type": "execute_result"
    }
   ],
   "source": [
    "list(zip(x_train1.columns,lm.coef_))"
   ]
  },
  {
   "cell_type": "code",
   "execution_count": 556,
   "metadata": {},
   "outputs": [],
   "source": [
    "x_train2=ld_train2.drop('Interest.Rate',axis=1)"
   ]
  },
  {
   "cell_type": "code",
   "execution_count": 566,
   "metadata": {},
   "outputs": [],
   "source": [
    "predicted_ir=lm.predict(x_train2)"
   ]
  },
  {
   "cell_type": "code",
   "execution_count": 558,
   "metadata": {},
   "outputs": [],
   "source": [
    "from sklearn.metrics import mean_absolute_error"
   ]
  },
  {
   "cell_type": "code",
   "execution_count": 559,
   "metadata": {},
   "outputs": [
    {
     "data": {
      "text/plain": [
       "1.62195294566171"
      ]
     },
     "execution_count": 559,
     "metadata": {},
     "output_type": "execute_result"
    }
   ],
   "source": [
    "mean_absolute_error(ld_train2['Interest.Rate'],predicted_ir)"
   ]
  },
  {
   "cell_type": "code",
   "execution_count": 560,
   "metadata": {},
   "outputs": [],
   "source": [
    "x_train=ld_train.drop('Interest.Rate',axis=1)\n",
    "y_train=ld_train['Interest.Rate']"
   ]
  },
  {
   "cell_type": "code",
   "execution_count": 561,
   "metadata": {},
   "outputs": [
    {
     "data": {
      "text/plain": [
       "LinearRegression()"
      ]
     },
     "execution_count": 561,
     "metadata": {},
     "output_type": "execute_result"
    }
   ],
   "source": [
    "lm.fit(x_train,y_train)"
   ]
  },
  {
   "cell_type": "code",
   "execution_count": 562,
   "metadata": {},
   "outputs": [],
   "source": [
    "test_pred=lm.predict(ld_test)"
   ]
  },
  {
   "cell_type": "code",
   "execution_count": 563,
   "metadata": {},
   "outputs": [
    {
     "data": {
      "text/plain": [
       "array([16.68460665, 15.96174989, 10.32017438,  3.74797869, 15.36046202,\n",
       "        7.18943028, 15.85226031, 10.70212297, 15.88904937, 12.23011159,\n",
       "        9.73689101, 14.94128551, 11.74230096, 13.75456535, 13.55168259,\n",
       "       18.32055606, 10.46278685, 15.83081205, 13.86382377, 14.06839668,\n",
       "       22.31493162, 17.9085407 , 12.23322921, 14.83769617,  9.68843791,\n",
       "       10.67475678, 12.97566416, 19.66111771, 12.31394835, 16.42458568,\n",
       "       15.19729824, 15.30692449, 12.48839769, 15.00186272, 13.59525736,\n",
       "       14.2613088 , 19.43713466, 10.70482172, 11.46467869, 16.41423867,\n",
       "       14.19101163, 11.33550598, 14.64235715, 13.07540766, 15.98411675,\n",
       "       16.96255821, 15.28160119, 16.71766123, 16.93199148, 10.44278847,\n",
       "       13.7109271 , 19.73137044,  9.41756046, 19.72849322, 15.66417214,\n",
       "       14.8204583 , 17.96376489, 14.83682088, 10.94548346, 14.80315432,\n",
       "       13.29980409, 17.08708915,  8.86090339, 14.4802597 ,  9.9756456 ,\n",
       "       11.42024099, 12.90340053, 14.94881689, 11.52773632, 14.57074992,\n",
       "       14.45773235, 17.51440309, 20.58945662, 19.74804513, 13.19296815,\n",
       "       16.96754193, 11.1562592 , 10.20258463, 16.82582318,  6.72755077,\n",
       "       16.13136312, 10.28363821,  9.47777827, 13.12904502, 14.00059525,\n",
       "        9.78877124,  9.39973423, 14.33723129,  8.44107534, 11.85105285,\n",
       "       12.28157738, 16.35582108, 13.32919891, 17.89738533, 14.31091083,\n",
       "       10.38000864, 10.49279634, 17.11393959, 16.82852591, 13.28257685,\n",
       "       15.42611972, 13.54947977, 15.27205858, 14.84250199, 13.01808944,\n",
       "       12.31332638,  8.69051765, 11.33699627, 10.90522194, 13.46233827,\n",
       "       11.79227608, 20.4210132 ,  7.62988514, 16.94874015, 15.49172492,\n",
       "        6.58697629, 13.37962801, 14.45390405, 14.92773277,  9.53576543,\n",
       "       16.08660132, 14.16019108,  9.08437978, 12.43907078, 17.17675019,\n",
       "       16.00636115,  8.37125639, 18.97133166,  3.30181429, 12.29066152,\n",
       "       14.0988946 , 12.50692268,  9.98633628, 14.08958935, 18.8001722 ,\n",
       "       14.2311229 , 15.54764871, 13.46047804, 12.49579357,  9.40706537,\n",
       "       14.09282424, 13.81136033, 11.77220039, 11.77589818, 11.70136805,\n",
       "       16.39013591, 12.07265012, 10.64680464,  7.77295326, 10.13338128,\n",
       "       11.48831893, 13.77136287, 10.265632  ,  7.82210549, 14.09301434,\n",
       "       12.26937529, 11.25371139,  8.19092279, 14.55111176, 14.69828244,\n",
       "       14.11744322,  7.18492424, 15.20324108, 18.02708728, 15.32907484,\n",
       "       16.01101848, 14.15672822, 10.02494165, 13.71907746, 16.74202744,\n",
       "       14.03937953, 12.96424899,  6.96416741, 13.72759611, 10.18649428,\n",
       "       10.33020882, 11.23317146,  8.68187196,  9.05819694, 11.89783024,\n",
       "       13.29609511, 14.40724052, 10.52558636, 13.63701761, 10.76150237,\n",
       "       14.37892516,  8.39008671, 17.80431201, 13.70033766,  9.51361845,\n",
       "        7.61296195, 11.23646307, 15.44776375, 15.76248781, 14.4790721 ,\n",
       "       17.4626024 ,  9.88964415, 19.1000462 ,  5.02913203, 13.97023835,\n",
       "       13.94590485, 12.5008821 , 17.51576433, 16.57677086,  4.84222667,\n",
       "       15.38752786, 14.87743495, 20.05869778, 16.32549672,  8.8763574 ,\n",
       "       14.7024973 , 11.64944849, 12.21222602, 14.00751869, 10.67531907,\n",
       "       12.40014712, 13.3314242 , 20.15536855, 13.29090582,  6.63167721,\n",
       "        5.58039066,  9.84269165, 17.39055007, 11.58344856, 15.83252328,\n",
       "       14.72205664, 11.62830046, 11.75717784, 12.99011295, 10.72622329,\n",
       "       11.75687467, 14.32125945, 12.14723753, 16.11854555,  7.6488788 ,\n",
       "       10.7658395 , 13.45396285, 10.76855803,  4.9694867 , 20.35818674,\n",
       "       14.18709736, 19.86784371,  7.79337384, 20.76146665, 12.70223351,\n",
       "       12.32917053, 19.97834201,  9.26716787,  7.69282431, 13.35884009,\n",
       "       16.05794764, 15.13282312, 10.78965957, 13.97803796, 15.09429052,\n",
       "       18.76724937, 11.48223338,  7.97472587, 12.75275965, 18.16401191,\n",
       "       16.83267556, 13.47131741, 18.35189249,  7.70664639, 20.05673749,\n",
       "        8.65479264, 15.62974589, 10.87052379,  4.51835496, 14.99144258,\n",
       "       13.57615024, 13.05118169,  6.86085171, 11.06428972,  9.87297849,\n",
       "        6.61269284, 14.27620448, 14.17728535, 10.98166945, 14.55553074,\n",
       "       17.35430491, 20.21567358, 16.24786017, 14.22168255, 15.45336431,\n",
       "        8.12221089, 12.8418966 , 13.4816753 , 10.98008316, 11.8741547 ,\n",
       "       14.38569293, 10.17701861, 14.53984037,  9.10432659,  7.29021483,\n",
       "       15.86258021, 11.21187319, 14.54541136, 17.87441553, 13.51611139])"
      ]
     },
     "execution_count": 563,
     "metadata": {},
     "output_type": "execute_result"
    }
   ],
   "source": [
    "test_pred"
   ]
  },
  {
   "cell_type": "code",
   "execution_count": 564,
   "metadata": {},
   "outputs": [],
   "source": [
    "pd.DataFrame(test_pred).to_csv(\"mysubmission.csv\",index=False)"
   ]
  }
 ],
 "metadata": {
  "kernelspec": {
   "display_name": "Python 3",
   "language": "python",
   "name": "python3"
  },
  "language_info": {
   "codemirror_mode": {
    "name": "ipython",
    "version": 3
   },
   "file_extension": ".py",
   "mimetype": "text/x-python",
   "name": "python",
   "nbconvert_exporter": "python",
   "pygments_lexer": "ipython3",
   "version": "3.8.5"
  }
 },
 "nbformat": 4,
 "nbformat_minor": 4
}
