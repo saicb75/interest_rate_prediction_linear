{
 "cells": [
  {
   "cell_type": "code",
   "execution_count": 1,
   "metadata": {},
   "outputs": [
    {
     "data": {
      "text/plain": [
       "'C:\\\\Users\\\\saicb\\\\Downloads\\\\interest_rate_prediction_linear'"
      ]
     },
     "execution_count": 1,
     "metadata": {},
     "output_type": "execute_result"
    }
   ],
   "source": [
    "pwd"
   ]
  },
  {
   "cell_type": "code",
   "execution_count": 2,
   "metadata": {},
   "outputs": [],
   "source": [
    "import numpy as np\n",
    "import pandas as pd\n",
    "\n",
    "import matplotlib.pyplot as plt\n",
    "\n",
    "\n"
   ]
  },
  {
   "cell_type": "markdown",
   "metadata": {},
   "source": [
    "# Given the loan details of few Customers  predict interest for the new customers"
   ]
  },
  {
   "cell_type": "code",
   "execution_count": 3,
   "metadata": {},
   "outputs": [
    {
     "data": {
      "text/html": [
       "<div>\n",
       "<style scoped>\n",
       "    .dataframe tbody tr th:only-of-type {\n",
       "        vertical-align: middle;\n",
       "    }\n",
       "\n",
       "    .dataframe tbody tr th {\n",
       "        vertical-align: top;\n",
       "    }\n",
       "\n",
       "    .dataframe thead th {\n",
       "        text-align: right;\n",
       "    }\n",
       "</style>\n",
       "<table border=\"1\" class=\"dataframe\">\n",
       "  <thead>\n",
       "    <tr style=\"text-align: right;\">\n",
       "      <th></th>\n",
       "      <th>ID</th>\n",
       "      <th>Amount.Requested</th>\n",
       "      <th>Amount.Funded.By.Investors</th>\n",
       "      <th>Interest.Rate</th>\n",
       "      <th>Loan.Length</th>\n",
       "      <th>Loan.Purpose</th>\n",
       "      <th>Debt.To.Income.Ratio</th>\n",
       "      <th>State</th>\n",
       "      <th>Home.Ownership</th>\n",
       "      <th>Monthly.Income</th>\n",
       "      <th>FICO.Range</th>\n",
       "      <th>Open.CREDIT.Lines</th>\n",
       "      <th>Revolving.CREDIT.Balance</th>\n",
       "      <th>Inquiries.in.the.Last.6.Months</th>\n",
       "      <th>Employment.Length</th>\n",
       "    </tr>\n",
       "  </thead>\n",
       "  <tbody>\n",
       "    <tr>\n",
       "      <th>0</th>\n",
       "      <td>79542.0</td>\n",
       "      <td>25000</td>\n",
       "      <td>25000</td>\n",
       "      <td>18.49%</td>\n",
       "      <td>60 months</td>\n",
       "      <td>debt_consolidation</td>\n",
       "      <td>27.56%</td>\n",
       "      <td>VA</td>\n",
       "      <td>MORTGAGE</td>\n",
       "      <td>8606.56</td>\n",
       "      <td>720-724</td>\n",
       "      <td>11</td>\n",
       "      <td>15210</td>\n",
       "      <td>3.0</td>\n",
       "      <td>5 years</td>\n",
       "    </tr>\n",
       "    <tr>\n",
       "      <th>1</th>\n",
       "      <td>75473.0</td>\n",
       "      <td>19750</td>\n",
       "      <td>19750</td>\n",
       "      <td>17.27%</td>\n",
       "      <td>60 months</td>\n",
       "      <td>debt_consolidation</td>\n",
       "      <td>13.39%</td>\n",
       "      <td>NY</td>\n",
       "      <td>MORTGAGE</td>\n",
       "      <td>6737.50</td>\n",
       "      <td>710-714</td>\n",
       "      <td>14</td>\n",
       "      <td>19070</td>\n",
       "      <td>3.0</td>\n",
       "      <td>4 years</td>\n",
       "    </tr>\n",
       "    <tr>\n",
       "      <th>2</th>\n",
       "      <td>67265.0</td>\n",
       "      <td>2100</td>\n",
       "      <td>2100</td>\n",
       "      <td>14.33%</td>\n",
       "      <td>36 months</td>\n",
       "      <td>major_purchase</td>\n",
       "      <td>3.50%</td>\n",
       "      <td>LA</td>\n",
       "      <td>OWN</td>\n",
       "      <td>1000.00</td>\n",
       "      <td>690-694</td>\n",
       "      <td>13</td>\n",
       "      <td>893</td>\n",
       "      <td>1.0</td>\n",
       "      <td>&lt; 1 year</td>\n",
       "    </tr>\n",
       "    <tr>\n",
       "      <th>3</th>\n",
       "      <td>80167.0</td>\n",
       "      <td>28000</td>\n",
       "      <td>28000</td>\n",
       "      <td>16.29%</td>\n",
       "      <td>36 months</td>\n",
       "      <td>credit_card</td>\n",
       "      <td>19.62%</td>\n",
       "      <td>NV</td>\n",
       "      <td>MORTGAGE</td>\n",
       "      <td>7083.33</td>\n",
       "      <td>710-714</td>\n",
       "      <td>12</td>\n",
       "      <td>38194</td>\n",
       "      <td>1.0</td>\n",
       "      <td>10+ years</td>\n",
       "    </tr>\n",
       "    <tr>\n",
       "      <th>4</th>\n",
       "      <td>17240.0</td>\n",
       "      <td>24250</td>\n",
       "      <td>17431.82</td>\n",
       "      <td>12.23%</td>\n",
       "      <td>60 months</td>\n",
       "      <td>credit_card</td>\n",
       "      <td>23.79%</td>\n",
       "      <td>OH</td>\n",
       "      <td>MORTGAGE</td>\n",
       "      <td>5833.33</td>\n",
       "      <td>730-734</td>\n",
       "      <td>6</td>\n",
       "      <td>31061</td>\n",
       "      <td>2.0</td>\n",
       "      <td>10+ years</td>\n",
       "    </tr>\n",
       "    <tr>\n",
       "      <th>...</th>\n",
       "      <td>...</td>\n",
       "      <td>...</td>\n",
       "      <td>...</td>\n",
       "      <td>...</td>\n",
       "      <td>...</td>\n",
       "      <td>...</td>\n",
       "      <td>...</td>\n",
       "      <td>...</td>\n",
       "      <td>...</td>\n",
       "      <td>...</td>\n",
       "      <td>...</td>\n",
       "      <td>...</td>\n",
       "      <td>...</td>\n",
       "      <td>...</td>\n",
       "      <td>...</td>\n",
       "    </tr>\n",
       "    <tr>\n",
       "      <th>2195</th>\n",
       "      <td>74047.0</td>\n",
       "      <td>30000</td>\n",
       "      <td>30000</td>\n",
       "      <td>23.28%</td>\n",
       "      <td>60 months</td>\n",
       "      <td>other</td>\n",
       "      <td>12.10%</td>\n",
       "      <td>IL</td>\n",
       "      <td>MORTGAGE</td>\n",
       "      <td>7083.33</td>\n",
       "      <td>675-679</td>\n",
       "      <td>16</td>\n",
       "      <td>17969</td>\n",
       "      <td>1.0</td>\n",
       "      <td>10+ years</td>\n",
       "    </tr>\n",
       "    <tr>\n",
       "      <th>2196</th>\n",
       "      <td>63768.0</td>\n",
       "      <td>4200</td>\n",
       "      <td>4200</td>\n",
       "      <td>14.33%</td>\n",
       "      <td>60 months</td>\n",
       "      <td>car</td>\n",
       "      <td>14.16%</td>\n",
       "      <td>NJ</td>\n",
       "      <td>RENT</td>\n",
       "      <td>3850.00</td>\n",
       "      <td>700-704</td>\n",
       "      <td>4</td>\n",
       "      <td>5718</td>\n",
       "      <td>0.0</td>\n",
       "      <td>2 years</td>\n",
       "    </tr>\n",
       "    <tr>\n",
       "      <th>2197</th>\n",
       "      <td>94545.0</td>\n",
       "      <td>19800</td>\n",
       "      <td>19775</td>\n",
       "      <td>15.31%</td>\n",
       "      <td>60 months</td>\n",
       "      <td>debt_consolidation</td>\n",
       "      <td>15.03%</td>\n",
       "      <td>IL</td>\n",
       "      <td>MORTGAGE</td>\n",
       "      <td>6666.67</td>\n",
       "      <td>675-679</td>\n",
       "      <td>10</td>\n",
       "      <td>46879</td>\n",
       "      <td>3.0</td>\n",
       "      <td>6 years</td>\n",
       "    </tr>\n",
       "    <tr>\n",
       "      <th>2198</th>\n",
       "      <td>53635.0</td>\n",
       "      <td>18000</td>\n",
       "      <td>18000</td>\n",
       "      <td>20.99%</td>\n",
       "      <td>60 months</td>\n",
       "      <td>credit_card</td>\n",
       "      <td>11.63%</td>\n",
       "      <td>CA</td>\n",
       "      <td>RENT</td>\n",
       "      <td>9051.83</td>\n",
       "      <td>670-674</td>\n",
       "      <td>5</td>\n",
       "      <td>32394</td>\n",
       "      <td>2.0</td>\n",
       "      <td>4 years</td>\n",
       "    </tr>\n",
       "    <tr>\n",
       "      <th>2199</th>\n",
       "      <td>67953.0</td>\n",
       "      <td>7550</td>\n",
       "      <td>7550</td>\n",
       "      <td>10.16%</td>\n",
       "      <td>36 months</td>\n",
       "      <td>debt_consolidation</td>\n",
       "      <td>3.83%</td>\n",
       "      <td>CA</td>\n",
       "      <td>MORTGAGE</td>\n",
       "      <td>8333.33</td>\n",
       "      <td>710-714</td>\n",
       "      <td>10</td>\n",
       "      <td>10204</td>\n",
       "      <td>0.0</td>\n",
       "      <td>2 years</td>\n",
       "    </tr>\n",
       "  </tbody>\n",
       "</table>\n",
       "<p>2200 rows × 15 columns</p>\n",
       "</div>"
      ],
      "text/plain": [
       "           ID Amount.Requested Amount.Funded.By.Investors Interest.Rate  \\\n",
       "0     79542.0            25000                      25000        18.49%   \n",
       "1     75473.0            19750                      19750        17.27%   \n",
       "2     67265.0             2100                       2100        14.33%   \n",
       "3     80167.0            28000                      28000        16.29%   \n",
       "4     17240.0            24250                   17431.82        12.23%   \n",
       "...       ...              ...                        ...           ...   \n",
       "2195  74047.0            30000                      30000        23.28%   \n",
       "2196  63768.0             4200                       4200        14.33%   \n",
       "2197  94545.0            19800                      19775        15.31%   \n",
       "2198  53635.0            18000                      18000        20.99%   \n",
       "2199  67953.0             7550                       7550        10.16%   \n",
       "\n",
       "     Loan.Length        Loan.Purpose Debt.To.Income.Ratio State  \\\n",
       "0      60 months  debt_consolidation               27.56%    VA   \n",
       "1      60 months  debt_consolidation               13.39%    NY   \n",
       "2      36 months      major_purchase                3.50%    LA   \n",
       "3      36 months         credit_card               19.62%    NV   \n",
       "4      60 months         credit_card               23.79%    OH   \n",
       "...          ...                 ...                  ...   ...   \n",
       "2195   60 months               other               12.10%    IL   \n",
       "2196   60 months                 car               14.16%    NJ   \n",
       "2197   60 months  debt_consolidation               15.03%    IL   \n",
       "2198   60 months         credit_card               11.63%    CA   \n",
       "2199   36 months  debt_consolidation                3.83%    CA   \n",
       "\n",
       "     Home.Ownership  Monthly.Income FICO.Range Open.CREDIT.Lines  \\\n",
       "0          MORTGAGE         8606.56    720-724                11   \n",
       "1          MORTGAGE         6737.50    710-714                14   \n",
       "2               OWN         1000.00    690-694                13   \n",
       "3          MORTGAGE         7083.33    710-714                12   \n",
       "4          MORTGAGE         5833.33    730-734                 6   \n",
       "...             ...             ...        ...               ...   \n",
       "2195       MORTGAGE         7083.33    675-679                16   \n",
       "2196           RENT         3850.00    700-704                 4   \n",
       "2197       MORTGAGE         6666.67    675-679                10   \n",
       "2198           RENT         9051.83    670-674                 5   \n",
       "2199       MORTGAGE         8333.33    710-714                10   \n",
       "\n",
       "     Revolving.CREDIT.Balance  Inquiries.in.the.Last.6.Months  \\\n",
       "0                       15210                             3.0   \n",
       "1                       19070                             3.0   \n",
       "2                         893                             1.0   \n",
       "3                       38194                             1.0   \n",
       "4                       31061                             2.0   \n",
       "...                       ...                             ...   \n",
       "2195                    17969                             1.0   \n",
       "2196                     5718                             0.0   \n",
       "2197                    46879                             3.0   \n",
       "2198                    32394                             2.0   \n",
       "2199                    10204                             0.0   \n",
       "\n",
       "     Employment.Length  \n",
       "0              5 years  \n",
       "1              4 years  \n",
       "2             < 1 year  \n",
       "3            10+ years  \n",
       "4            10+ years  \n",
       "...                ...  \n",
       "2195         10+ years  \n",
       "2196           2 years  \n",
       "2197           6 years  \n",
       "2198           4 years  \n",
       "2199           2 years  \n",
       "\n",
       "[2200 rows x 15 columns]"
      ]
     },
     "execution_count": 3,
     "metadata": {},
     "output_type": "execute_result"
    }
   ],
   "source": [
    "# Read the given csv file\n",
    "ld_train = pd.read_csv(\"loan_data_train.csv\")\n",
    "ld_test = pd.read_csv(\"loan_data_test.csv\")\n",
    "ld_train"
   ]
  },
  {
   "cell_type": "markdown",
   "metadata": {},
   "source": [
    "# Sanity Check"
   ]
  },
  {
   "cell_type": "code",
   "execution_count": 4,
   "metadata": {},
   "outputs": [
    {
     "name": "stdout",
     "output_type": "stream",
     "text": [
      "<class 'pandas.core.frame.DataFrame'>\n",
      "RangeIndex: 2200 entries, 0 to 2199\n",
      "Data columns (total 15 columns):\n",
      " #   Column                          Non-Null Count  Dtype  \n",
      "---  ------                          --------------  -----  \n",
      " 0   ID                              2199 non-null   float64\n",
      " 1   Amount.Requested                2199 non-null   object \n",
      " 2   Amount.Funded.By.Investors      2199 non-null   object \n",
      " 3   Interest.Rate                   2200 non-null   object \n",
      " 4   Loan.Length                     2199 non-null   object \n",
      " 5   Loan.Purpose                    2199 non-null   object \n",
      " 6   Debt.To.Income.Ratio            2199 non-null   object \n",
      " 7   State                           2199 non-null   object \n",
      " 8   Home.Ownership                  2199 non-null   object \n",
      " 9   Monthly.Income                  2197 non-null   float64\n",
      " 10  FICO.Range                      2200 non-null   object \n",
      " 11  Open.CREDIT.Lines               2196 non-null   object \n",
      " 12  Revolving.CREDIT.Balance        2197 non-null   object \n",
      " 13  Inquiries.in.the.Last.6.Months  2197 non-null   float64\n",
      " 14  Employment.Length               2131 non-null   object \n",
      "dtypes: float64(3), object(12)\n",
      "memory usage: 257.9+ KB\n"
     ]
    }
   ],
   "source": [
    "# Checking the Data shape & the data types of the coulmn in given training set\n",
    "ld_train\n",
    "ld_train.shape\n",
    "ld_train.info()"
   ]
  },
  {
   "cell_type": "code",
   "execution_count": 5,
   "metadata": {},
   "outputs": [
    {
     "name": "stdout",
     "output_type": "stream",
     "text": [
      "<class 'pandas.core.frame.DataFrame'>\n",
      "RangeIndex: 300 entries, 0 to 299\n",
      "Data columns (total 14 columns):\n",
      " #   Column                          Non-Null Count  Dtype  \n",
      "---  ------                          --------------  -----  \n",
      " 0   ID                              300 non-null    int64  \n",
      " 1   Amount.Requested                300 non-null    int64  \n",
      " 2   Amount.Funded.By.Investors      300 non-null    object \n",
      " 3   Loan.Length                     300 non-null    object \n",
      " 4   Loan.Purpose                    300 non-null    object \n",
      " 5   Debt.To.Income.Ratio            300 non-null    object \n",
      " 6   State                           300 non-null    object \n",
      " 7   Home.Ownership                  300 non-null    object \n",
      " 8   Monthly.Income                  300 non-null    float64\n",
      " 9   FICO.Range                      300 non-null    object \n",
      " 10  Open.CREDIT.Lines               300 non-null    object \n",
      " 11  Revolving.CREDIT.Balance        300 non-null    int64  \n",
      " 12  Inquiries.in.the.Last.6.Months  300 non-null    int64  \n",
      " 13  Employment.Length               291 non-null    object \n",
      "dtypes: float64(1), int64(4), object(9)\n",
      "memory usage: 32.9+ KB\n"
     ]
    }
   ],
   "source": [
    "# Checking the Data shape & the data types of the coulmn in given test set\n",
    "ld_test\n",
    "ld_test.shape\n",
    "ld_test.info()"
   ]
  },
  {
   "cell_type": "markdown",
   "metadata": {},
   "source": [
    "# EDA & Preprocessing"
   ]
  },
  {
   "cell_type": "code",
   "execution_count": 6,
   "metadata": {},
   "outputs": [
    {
     "data": {
      "text/plain": [
       "0"
      ]
     },
     "execution_count": 6,
     "metadata": {},
     "output_type": "execute_result"
    }
   ],
   "source": [
    "# Data should not have missing values\n",
    "# Data should not have string column - if there are string columns convert it to numeric\n",
    "#check for the outliers - plot the graph & check for the outliers, to overcome use capping(optional)\n",
    "#Standardize or normalize the range of numeric column(optional)\n",
    "#check for correlations & remove features which are highly correlated with each other(optional)\n",
    "ld_train['Amount.Requested'].unique()\n",
    "sum(ld_train['Amount.Requested']=='.')\n",
    "\n",
    "#numeric_cols=id_all.select_dtypes(include = np.number)`\n",
    "ld_test['Amount.Requested'].unique()\n",
    "sum(ld_test['Amount.Requested']=='.')"
   ]
  },
  {
   "cell_type": "code",
   "execution_count": 7,
   "metadata": {},
   "outputs": [
    {
     "data": {
      "text/html": [
       "<div>\n",
       "<style scoped>\n",
       "    .dataframe tbody tr th:only-of-type {\n",
       "        vertical-align: middle;\n",
       "    }\n",
       "\n",
       "    .dataframe tbody tr th {\n",
       "        vertical-align: top;\n",
       "    }\n",
       "\n",
       "    .dataframe thead th {\n",
       "        text-align: right;\n",
       "    }\n",
       "</style>\n",
       "<table border=\"1\" class=\"dataframe\">\n",
       "  <thead>\n",
       "    <tr style=\"text-align: right;\">\n",
       "      <th></th>\n",
       "      <th>ID</th>\n",
       "      <th>Amount.Requested</th>\n",
       "      <th>Amount.Funded.By.Investors</th>\n",
       "      <th>Loan.Length</th>\n",
       "      <th>Loan.Purpose</th>\n",
       "      <th>Debt.To.Income.Ratio</th>\n",
       "      <th>State</th>\n",
       "      <th>Home.Ownership</th>\n",
       "      <th>Monthly.Income</th>\n",
       "      <th>FICO.Range</th>\n",
       "      <th>Open.CREDIT.Lines</th>\n",
       "      <th>Revolving.CREDIT.Balance</th>\n",
       "      <th>Inquiries.in.the.Last.6.Months</th>\n",
       "      <th>Employment.Length</th>\n",
       "      <th>Interest.Rate</th>\n",
       "    </tr>\n",
       "  </thead>\n",
       "  <tbody>\n",
       "    <tr>\n",
       "      <th>0</th>\n",
       "      <td>20093</td>\n",
       "      <td>5000</td>\n",
       "      <td>5000</td>\n",
       "      <td>60 months</td>\n",
       "      <td>moving</td>\n",
       "      <td>12.59%</td>\n",
       "      <td>NY</td>\n",
       "      <td>RENT</td>\n",
       "      <td>4416.67</td>\n",
       "      <td>690-694</td>\n",
       "      <td>13</td>\n",
       "      <td>7686</td>\n",
       "      <td>0</td>\n",
       "      <td>&lt; 1 year</td>\n",
       "      <td>NaN</td>\n",
       "    </tr>\n",
       "    <tr>\n",
       "      <th>1</th>\n",
       "      <td>62445</td>\n",
       "      <td>18000</td>\n",
       "      <td>18000</td>\n",
       "      <td>60 months</td>\n",
       "      <td>debt_consolidation</td>\n",
       "      <td>4.93%</td>\n",
       "      <td>CA</td>\n",
       "      <td>RENT</td>\n",
       "      <td>5258.50</td>\n",
       "      <td>710-714</td>\n",
       "      <td>6</td>\n",
       "      <td>11596</td>\n",
       "      <td>0</td>\n",
       "      <td>10+ years</td>\n",
       "      <td>NaN</td>\n",
       "    </tr>\n",
       "    <tr>\n",
       "      <th>2</th>\n",
       "      <td>65248</td>\n",
       "      <td>7200</td>\n",
       "      <td>7200</td>\n",
       "      <td>60 months</td>\n",
       "      <td>debt_consolidation</td>\n",
       "      <td>25.16%</td>\n",
       "      <td>LA</td>\n",
       "      <td>MORTGAGE</td>\n",
       "      <td>3750.00</td>\n",
       "      <td>750-754</td>\n",
       "      <td>13</td>\n",
       "      <td>7283</td>\n",
       "      <td>0</td>\n",
       "      <td>6 years</td>\n",
       "      <td>NaN</td>\n",
       "    </tr>\n",
       "    <tr>\n",
       "      <th>3</th>\n",
       "      <td>81822</td>\n",
       "      <td>7200</td>\n",
       "      <td>7200</td>\n",
       "      <td>36 months</td>\n",
       "      <td>debt_consolidation</td>\n",
       "      <td>17.27%</td>\n",
       "      <td>NY</td>\n",
       "      <td>MORTGAGE</td>\n",
       "      <td>3416.67</td>\n",
       "      <td>790-794</td>\n",
       "      <td>14</td>\n",
       "      <td>4838</td>\n",
       "      <td>0</td>\n",
       "      <td>10+ years</td>\n",
       "      <td>NaN</td>\n",
       "    </tr>\n",
       "    <tr>\n",
       "      <th>4</th>\n",
       "      <td>57923</td>\n",
       "      <td>22000</td>\n",
       "      <td>22000</td>\n",
       "      <td>60 months</td>\n",
       "      <td>debt_consolidation</td>\n",
       "      <td>18.28%</td>\n",
       "      <td>MI</td>\n",
       "      <td>MORTGAGE</td>\n",
       "      <td>6083.33</td>\n",
       "      <td>720-724</td>\n",
       "      <td>9</td>\n",
       "      <td>20181</td>\n",
       "      <td>0</td>\n",
       "      <td>8 years</td>\n",
       "      <td>NaN</td>\n",
       "    </tr>\n",
       "  </tbody>\n",
       "</table>\n",
       "</div>"
      ],
      "text/plain": [
       "      ID  Amount.Requested Amount.Funded.By.Investors Loan.Length  \\\n",
       "0  20093              5000                       5000   60 months   \n",
       "1  62445             18000                      18000   60 months   \n",
       "2  65248              7200                       7200   60 months   \n",
       "3  81822              7200                       7200   36 months   \n",
       "4  57923             22000                      22000   60 months   \n",
       "\n",
       "         Loan.Purpose Debt.To.Income.Ratio State Home.Ownership  \\\n",
       "0              moving               12.59%    NY           RENT   \n",
       "1  debt_consolidation                4.93%    CA           RENT   \n",
       "2  debt_consolidation               25.16%    LA       MORTGAGE   \n",
       "3  debt_consolidation               17.27%    NY       MORTGAGE   \n",
       "4  debt_consolidation               18.28%    MI       MORTGAGE   \n",
       "\n",
       "   Monthly.Income FICO.Range Open.CREDIT.Lines  Revolving.CREDIT.Balance  \\\n",
       "0         4416.67    690-694                13                      7686   \n",
       "1         5258.50    710-714                 6                     11596   \n",
       "2         3750.00    750-754                13                      7283   \n",
       "3         3416.67    790-794                14                      4838   \n",
       "4         6083.33    720-724                 9                     20181   \n",
       "\n",
       "   Inquiries.in.the.Last.6.Months Employment.Length  Interest.Rate  \n",
       "0                               0          < 1 year            NaN  \n",
       "1                               0         10+ years            NaN  \n",
       "2                               0           6 years            NaN  \n",
       "3                               0         10+ years            NaN  \n",
       "4                               0           8 years            NaN  "
      ]
     },
     "execution_count": 7,
     "metadata": {},
     "output_type": "execute_result"
    }
   ],
   "source": [
    "ld_test['Interest.Rate']=np.nan\n",
    "ld_test.head()\n"
   ]
  },
  {
   "cell_type": "code",
   "execution_count": 8,
   "metadata": {},
   "outputs": [
    {
     "data": {
      "text/html": [
       "<div>\n",
       "<style scoped>\n",
       "    .dataframe tbody tr th:only-of-type {\n",
       "        vertical-align: middle;\n",
       "    }\n",
       "\n",
       "    .dataframe tbody tr th {\n",
       "        vertical-align: top;\n",
       "    }\n",
       "\n",
       "    .dataframe thead th {\n",
       "        text-align: right;\n",
       "    }\n",
       "</style>\n",
       "<table border=\"1\" class=\"dataframe\">\n",
       "  <thead>\n",
       "    <tr style=\"text-align: right;\">\n",
       "      <th></th>\n",
       "      <th>ID</th>\n",
       "      <th>Amount.Requested</th>\n",
       "      <th>Amount.Funded.By.Investors</th>\n",
       "      <th>Interest.Rate</th>\n",
       "      <th>Loan.Length</th>\n",
       "      <th>Loan.Purpose</th>\n",
       "      <th>Debt.To.Income.Ratio</th>\n",
       "      <th>State</th>\n",
       "      <th>Home.Ownership</th>\n",
       "      <th>Monthly.Income</th>\n",
       "      <th>FICO.Range</th>\n",
       "      <th>Open.CREDIT.Lines</th>\n",
       "      <th>Revolving.CREDIT.Balance</th>\n",
       "      <th>Inquiries.in.the.Last.6.Months</th>\n",
       "      <th>Employment.Length</th>\n",
       "    </tr>\n",
       "  </thead>\n",
       "  <tbody>\n",
       "    <tr>\n",
       "      <th>0</th>\n",
       "      <td>79542.0</td>\n",
       "      <td>25000</td>\n",
       "      <td>25000</td>\n",
       "      <td>18.49%</td>\n",
       "      <td>60 months</td>\n",
       "      <td>debt_consolidation</td>\n",
       "      <td>27.56%</td>\n",
       "      <td>VA</td>\n",
       "      <td>MORTGAGE</td>\n",
       "      <td>8606.56</td>\n",
       "      <td>720-724</td>\n",
       "      <td>11</td>\n",
       "      <td>15210</td>\n",
       "      <td>3.0</td>\n",
       "      <td>5 years</td>\n",
       "    </tr>\n",
       "    <tr>\n",
       "      <th>1</th>\n",
       "      <td>75473.0</td>\n",
       "      <td>19750</td>\n",
       "      <td>19750</td>\n",
       "      <td>17.27%</td>\n",
       "      <td>60 months</td>\n",
       "      <td>debt_consolidation</td>\n",
       "      <td>13.39%</td>\n",
       "      <td>NY</td>\n",
       "      <td>MORTGAGE</td>\n",
       "      <td>6737.50</td>\n",
       "      <td>710-714</td>\n",
       "      <td>14</td>\n",
       "      <td>19070</td>\n",
       "      <td>3.0</td>\n",
       "      <td>4 years</td>\n",
       "    </tr>\n",
       "    <tr>\n",
       "      <th>2</th>\n",
       "      <td>67265.0</td>\n",
       "      <td>2100</td>\n",
       "      <td>2100</td>\n",
       "      <td>14.33%</td>\n",
       "      <td>36 months</td>\n",
       "      <td>major_purchase</td>\n",
       "      <td>3.50%</td>\n",
       "      <td>LA</td>\n",
       "      <td>OWN</td>\n",
       "      <td>1000.00</td>\n",
       "      <td>690-694</td>\n",
       "      <td>13</td>\n",
       "      <td>893</td>\n",
       "      <td>1.0</td>\n",
       "      <td>&lt; 1 year</td>\n",
       "    </tr>\n",
       "    <tr>\n",
       "      <th>3</th>\n",
       "      <td>80167.0</td>\n",
       "      <td>28000</td>\n",
       "      <td>28000</td>\n",
       "      <td>16.29%</td>\n",
       "      <td>36 months</td>\n",
       "      <td>credit_card</td>\n",
       "      <td>19.62%</td>\n",
       "      <td>NV</td>\n",
       "      <td>MORTGAGE</td>\n",
       "      <td>7083.33</td>\n",
       "      <td>710-714</td>\n",
       "      <td>12</td>\n",
       "      <td>38194</td>\n",
       "      <td>1.0</td>\n",
       "      <td>10+ years</td>\n",
       "    </tr>\n",
       "    <tr>\n",
       "      <th>4</th>\n",
       "      <td>17240.0</td>\n",
       "      <td>24250</td>\n",
       "      <td>17431.82</td>\n",
       "      <td>12.23%</td>\n",
       "      <td>60 months</td>\n",
       "      <td>credit_card</td>\n",
       "      <td>23.79%</td>\n",
       "      <td>OH</td>\n",
       "      <td>MORTGAGE</td>\n",
       "      <td>5833.33</td>\n",
       "      <td>730-734</td>\n",
       "      <td>6</td>\n",
       "      <td>31061</td>\n",
       "      <td>2.0</td>\n",
       "      <td>10+ years</td>\n",
       "    </tr>\n",
       "  </tbody>\n",
       "</table>\n",
       "</div>"
      ],
      "text/plain": [
       "        ID Amount.Requested Amount.Funded.By.Investors Interest.Rate  \\\n",
       "0  79542.0            25000                      25000        18.49%   \n",
       "1  75473.0            19750                      19750        17.27%   \n",
       "2  67265.0             2100                       2100        14.33%   \n",
       "3  80167.0            28000                      28000        16.29%   \n",
       "4  17240.0            24250                   17431.82        12.23%   \n",
       "\n",
       "  Loan.Length        Loan.Purpose Debt.To.Income.Ratio State Home.Ownership  \\\n",
       "0   60 months  debt_consolidation               27.56%    VA       MORTGAGE   \n",
       "1   60 months  debt_consolidation               13.39%    NY       MORTGAGE   \n",
       "2   36 months      major_purchase                3.50%    LA            OWN   \n",
       "3   36 months         credit_card               19.62%    NV       MORTGAGE   \n",
       "4   60 months         credit_card               23.79%    OH       MORTGAGE   \n",
       "\n",
       "   Monthly.Income FICO.Range Open.CREDIT.Lines Revolving.CREDIT.Balance  \\\n",
       "0         8606.56    720-724                11                    15210   \n",
       "1         6737.50    710-714                14                    19070   \n",
       "2         1000.00    690-694                13                      893   \n",
       "3         7083.33    710-714                12                    38194   \n",
       "4         5833.33    730-734                 6                    31061   \n",
       "\n",
       "   Inquiries.in.the.Last.6.Months Employment.Length  \n",
       "0                             3.0           5 years  \n",
       "1                             3.0           4 years  \n",
       "2                             1.0          < 1 year  \n",
       "3                             1.0         10+ years  \n",
       "4                             2.0         10+ years  "
      ]
     },
     "execution_count": 8,
     "metadata": {},
     "output_type": "execute_result"
    }
   ],
   "source": [
    "ld_train.head()"
   ]
  },
  {
   "cell_type": "code",
   "execution_count": 9,
   "metadata": {},
   "outputs": [
    {
     "data": {
      "text/plain": [
       "ID                                float64\n",
       "Amount.Requested                   object\n",
       "Amount.Funded.By.Investors         object\n",
       "Interest.Rate                      object\n",
       "Loan.Length                        object\n",
       "Loan.Purpose                       object\n",
       "Debt.To.Income.Ratio               object\n",
       "State                              object\n",
       "Home.Ownership                     object\n",
       "Monthly.Income                    float64\n",
       "FICO.Range                         object\n",
       "Open.CREDIT.Lines                  object\n",
       "Revolving.CREDIT.Balance           object\n",
       "Inquiries.in.the.Last.6.Months    float64\n",
       "Employment.Length                  object\n",
       "data                               object\n",
       "dtype: object"
      ]
     },
     "execution_count": 9,
     "metadata": {},
     "output_type": "execute_result"
    }
   ],
   "source": [
    "#Combining Train & Test Data\n",
    "\n",
    "ld_test['Interest.Rate']=np.nan\n",
    "ld_train['data'] = 'train'\n",
    "ld_test['data'] = 'test'\n",
    "ld_test =ld_test[ld_train.columns]\n",
    "# print(ld_test.head())\n",
    "\n",
    "ld_all=pd.concat([ld_train, ld_test],axis=0)\n",
    "ld_all.shape, ld_train.shape, ld_test.shape\n",
    "\n",
    "ld_all.head()\n",
    "ld_all.dtypes"
   ]
  },
  {
   "cell_type": "code",
   "execution_count": 10,
   "metadata": {},
   "outputs": [],
   "source": [
    "# ID,Amount.Funded.By.Investors : drop \n",
    "# Interest Rate , Debt to income ratio : remove % and then to numeric\n",
    "# Amount.Requested , 'Open.CREDIT.Lines','Revolving.CREDIT.Balance': convert it to numeric \n",
    "# FICO.Range : replace it by a numeric column which is average of the range\n",
    "# Employment Length : convert to number\n",
    "# Loan Lenth, Loan Purpose , State , Home ownership: dummies for categories with good occurence rate"
   ]
  },
  {
   "cell_type": "code",
   "execution_count": 11,
   "metadata": {},
   "outputs": [
    {
     "data": {
      "text/plain": [
       "Amount.Requested                   object\n",
       "Interest.Rate                      object\n",
       "Loan.Length                        object\n",
       "Loan.Purpose                       object\n",
       "Debt.To.Income.Ratio               object\n",
       "State                              object\n",
       "Home.Ownership                     object\n",
       "Monthly.Income                    float64\n",
       "FICO.Range                         object\n",
       "Open.CREDIT.Lines                  object\n",
       "Revolving.CREDIT.Balance           object\n",
       "Inquiries.in.the.Last.6.Months    float64\n",
       "Employment.Length                  object\n",
       "data                               object\n",
       "dtype: object"
      ]
     },
     "execution_count": 11,
     "metadata": {},
     "output_type": "execute_result"
    }
   ],
   "source": [
    "# ID,Amount.Funded.By.Investors : drop \n",
    "ld_all.drop(['ID','Amount.Funded.By.Investors'],axis=1,inplace=True)\n",
    "ld_all.dtypes"
   ]
  },
  {
   "cell_type": "code",
   "execution_count": 12,
   "metadata": {},
   "outputs": [
    {
     "data": {
      "text/plain": [
       "Amount.Requested                   object\n",
       "Interest.Rate                     float64\n",
       "Loan.Length                        object\n",
       "Loan.Purpose                       object\n",
       "Debt.To.Income.Ratio              float64\n",
       "State                              object\n",
       "Home.Ownership                     object\n",
       "Monthly.Income                    float64\n",
       "FICO.Range                         object\n",
       "Open.CREDIT.Lines                  object\n",
       "Revolving.CREDIT.Balance           object\n",
       "Inquiries.in.the.Last.6.Months    float64\n",
       "Employment.Length                  object\n",
       "data                               object\n",
       "dtype: object"
      ]
     },
     "execution_count": 12,
     "metadata": {},
     "output_type": "execute_result"
    }
   ],
   "source": [
    "#Removing the percentage symbol from Interest Rate & Debt to income ratio\n",
    "ld_all['Interest.Rate']\n",
    "ld_all['Debt.To.Income.Ratio']\n",
    "\n",
    " \n",
    "for column in ['Interest.Rate','Debt.To.Income.Ratio']:\n",
    "    ld_all[column] = ld_all[column].str.replace('%','')\n",
    "    ld_all[column] = pd.to_numeric(ld_all[column],errors='coerce') ## for all the values in the column, try to convert to numerld_all.dtypes\n",
    "\n",
    "ld_all.dtypes  "
   ]
  },
  {
   "cell_type": "code",
   "execution_count": 13,
   "metadata": {},
   "outputs": [
    {
     "data": {
      "text/plain": [
       "Amount.Requested                  float64\n",
       "Interest.Rate                     float64\n",
       "Loan.Length                        object\n",
       "Loan.Purpose                       object\n",
       "Debt.To.Income.Ratio              float64\n",
       "State                              object\n",
       "Home.Ownership                     object\n",
       "Monthly.Income                    float64\n",
       "FICO.Range                         object\n",
       "Open.CREDIT.Lines                 float64\n",
       "Revolving.CREDIT.Balance          float64\n",
       "Inquiries.in.the.Last.6.Months    float64\n",
       "Employment.Length                  object\n",
       "data                               object\n",
       "dtype: object"
      ]
     },
     "execution_count": 13,
     "metadata": {},
     "output_type": "execute_result"
    }
   ],
   "source": [
    "# Amount.Requested , 'Open.CREDIT.Lines','Revolving.CREDIT.Balance': convert it to numeric \n",
    "for col in [ 'Amount.Requested' , 'Open.CREDIT.Lines','Revolving.CREDIT.Balance']:\n",
    "    ld_all[col]=pd.to_numeric(ld_all[col],errors='coerce')\n",
    "ld_all.dtypes\n"
   ]
  },
  {
   "cell_type": "code",
   "execution_count": 14,
   "metadata": {},
   "outputs": [
    {
     "data": {
      "text/plain": [
       "Amount.Requested                  float64\n",
       "Interest.Rate                     float64\n",
       "Loan.Length                        object\n",
       "Loan.Purpose                       object\n",
       "Debt.To.Income.Ratio              float64\n",
       "State                              object\n",
       "Home.Ownership                     object\n",
       "Monthly.Income                    float64\n",
       "Open.CREDIT.Lines                 float64\n",
       "Revolving.CREDIT.Balance          float64\n",
       "Inquiries.in.the.Last.6.Months    float64\n",
       "Employment.Length                  object\n",
       "data                               object\n",
       "fico                              float64\n",
       "dtype: object"
      ]
     },
     "execution_count": 14,
     "metadata": {},
     "output_type": "execute_result"
    }
   ],
   "source": [
    "##### Treating the FICO Range ######\n",
    "\n",
    "\n",
    "k=ld_all['FICO.Range'].str.split(\"-\",expand=True).astype(float)\n",
    "\n",
    "ld_all['fico']=0.5*(k[0]+k[1])\n",
    "\n",
    "del ld_all['FICO.Range']\n",
    "ld_all.dtypes"
   ]
  },
  {
   "cell_type": "code",
   "execution_count": 15,
   "metadata": {},
   "outputs": [
    {
     "data": {
      "text/plain": [
       "10+ years    653\n",
       "< 1 year     249\n",
       "2 years      243\n",
       "3 years      235\n",
       "5 years      202\n",
       "4 years      191\n",
       "1 year       177\n",
       "6 years      163\n",
       "7 years      127\n",
       "8 years      108\n",
       "9 years       72\n",
       ".              2\n",
       "Name: Employment.Length, dtype: int64"
      ]
     },
     "execution_count": 15,
     "metadata": {},
     "output_type": "execute_result"
    }
   ],
   "source": [
    "ld_all['Employment.Length'].value_counts()"
   ]
  },
  {
   "cell_type": "code",
   "execution_count": 16,
   "metadata": {},
   "outputs": [],
   "source": [
    "#ld_all['Employment_Length']=ld_all['Employment_Length'].str.replace('.','10')\n",
    "#ld_all['Employment_Length']=ld_all['Employment_Length'].str.replace('years','')\n",
    "#ld_all['Employment_Length']=ld_all['Employment_Length'].str.replace('year','')\n",
    "#ld_all['Employment_Length']=ld_all['Employment_Length'].str.replace('10+','10')\n",
    "#ld_all['Employment_Length']=ld_all['Employment_Length'].str.replace('<1','0.5')\n",
    "\n",
    "#ld_all['Employment.Length'] = pd.to_numeric(ld_all['Employment.Length'],errors = 'coerce')\n",
    "\n",
    "\n"
   ]
  },
  {
   "cell_type": "markdown",
   "metadata": {},
   "source": []
  },
  {
   "cell_type": "code",
   "execution_count": 17,
   "metadata": {},
   "outputs": [],
   "source": [
    "ld_all['Employment.Length']=ld_all['Employment.Length'].str.replace('.',\"10\")\n",
    "\n",
    "ld_all['Employment.Length']=ld_all['Employment.Length'].str.replace('years',\"\")\n",
    "\n",
    "ld_all['Employment.Length']=ld_all['Employment.Length'].str.replace('year',\"\")\n",
    "\n",
    "ld_all['Employment.Length']=ld_all['Employment.Length'].str.replace('10+',\"10\")\n",
    "\n",
    "ld_all['Employment.Length']=ld_all['Employment.Length'].str.replace('< 1',\"0.5\")\n",
    "\n",
    "ld_all['Employment.Length'] = pd.to_numeric(ld_all['Employment.Length'],errors = 'coerce')"
   ]
  },
  {
   "cell_type": "code",
   "execution_count": 18,
   "metadata": {},
   "outputs": [
    {
     "data": {
      "text/html": [
       "<div>\n",
       "<style scoped>\n",
       "    .dataframe tbody tr th:only-of-type {\n",
       "        vertical-align: middle;\n",
       "    }\n",
       "\n",
       "    .dataframe tbody tr th {\n",
       "        vertical-align: top;\n",
       "    }\n",
       "\n",
       "    .dataframe thead th {\n",
       "        text-align: right;\n",
       "    }\n",
       "</style>\n",
       "<table border=\"1\" class=\"dataframe\">\n",
       "  <thead>\n",
       "    <tr style=\"text-align: right;\">\n",
       "      <th></th>\n",
       "      <th>Amount.Requested</th>\n",
       "      <th>Interest.Rate</th>\n",
       "      <th>Loan.Length</th>\n",
       "      <th>Loan.Purpose</th>\n",
       "      <th>Debt.To.Income.Ratio</th>\n",
       "      <th>State</th>\n",
       "      <th>Home.Ownership</th>\n",
       "      <th>Monthly.Income</th>\n",
       "      <th>Open.CREDIT.Lines</th>\n",
       "      <th>Revolving.CREDIT.Balance</th>\n",
       "      <th>Inquiries.in.the.Last.6.Months</th>\n",
       "      <th>Employment.Length</th>\n",
       "      <th>data</th>\n",
       "      <th>fico</th>\n",
       "    </tr>\n",
       "  </thead>\n",
       "  <tbody>\n",
       "    <tr>\n",
       "      <th>0</th>\n",
       "      <td>25000.0</td>\n",
       "      <td>18.49</td>\n",
       "      <td>60 months</td>\n",
       "      <td>debt_consolidation</td>\n",
       "      <td>27.56</td>\n",
       "      <td>VA</td>\n",
       "      <td>MORTGAGE</td>\n",
       "      <td>8606.56</td>\n",
       "      <td>11.0</td>\n",
       "      <td>15210.0</td>\n",
       "      <td>3.0</td>\n",
       "      <td>5.0</td>\n",
       "      <td>train</td>\n",
       "      <td>722.0</td>\n",
       "    </tr>\n",
       "    <tr>\n",
       "      <th>1</th>\n",
       "      <td>19750.0</td>\n",
       "      <td>17.27</td>\n",
       "      <td>60 months</td>\n",
       "      <td>debt_consolidation</td>\n",
       "      <td>13.39</td>\n",
       "      <td>NY</td>\n",
       "      <td>MORTGAGE</td>\n",
       "      <td>6737.50</td>\n",
       "      <td>14.0</td>\n",
       "      <td>19070.0</td>\n",
       "      <td>3.0</td>\n",
       "      <td>4.0</td>\n",
       "      <td>train</td>\n",
       "      <td>712.0</td>\n",
       "    </tr>\n",
       "    <tr>\n",
       "      <th>2</th>\n",
       "      <td>2100.0</td>\n",
       "      <td>14.33</td>\n",
       "      <td>36 months</td>\n",
       "      <td>major_purchase</td>\n",
       "      <td>3.50</td>\n",
       "      <td>LA</td>\n",
       "      <td>OWN</td>\n",
       "      <td>1000.00</td>\n",
       "      <td>13.0</td>\n",
       "      <td>893.0</td>\n",
       "      <td>1.0</td>\n",
       "      <td>0.5</td>\n",
       "      <td>train</td>\n",
       "      <td>692.0</td>\n",
       "    </tr>\n",
       "    <tr>\n",
       "      <th>3</th>\n",
       "      <td>28000.0</td>\n",
       "      <td>16.29</td>\n",
       "      <td>36 months</td>\n",
       "      <td>credit_card</td>\n",
       "      <td>19.62</td>\n",
       "      <td>NV</td>\n",
       "      <td>MORTGAGE</td>\n",
       "      <td>7083.33</td>\n",
       "      <td>12.0</td>\n",
       "      <td>38194.0</td>\n",
       "      <td>1.0</td>\n",
       "      <td>NaN</td>\n",
       "      <td>train</td>\n",
       "      <td>712.0</td>\n",
       "    </tr>\n",
       "    <tr>\n",
       "      <th>4</th>\n",
       "      <td>24250.0</td>\n",
       "      <td>12.23</td>\n",
       "      <td>60 months</td>\n",
       "      <td>credit_card</td>\n",
       "      <td>23.79</td>\n",
       "      <td>OH</td>\n",
       "      <td>MORTGAGE</td>\n",
       "      <td>5833.33</td>\n",
       "      <td>6.0</td>\n",
       "      <td>31061.0</td>\n",
       "      <td>2.0</td>\n",
       "      <td>NaN</td>\n",
       "      <td>train</td>\n",
       "      <td>732.0</td>\n",
       "    </tr>\n",
       "  </tbody>\n",
       "</table>\n",
       "</div>"
      ],
      "text/plain": [
       "   Amount.Requested  Interest.Rate Loan.Length        Loan.Purpose  \\\n",
       "0           25000.0          18.49   60 months  debt_consolidation   \n",
       "1           19750.0          17.27   60 months  debt_consolidation   \n",
       "2            2100.0          14.33   36 months      major_purchase   \n",
       "3           28000.0          16.29   36 months         credit_card   \n",
       "4           24250.0          12.23   60 months         credit_card   \n",
       "\n",
       "   Debt.To.Income.Ratio State Home.Ownership  Monthly.Income  \\\n",
       "0                 27.56    VA       MORTGAGE         8606.56   \n",
       "1                 13.39    NY       MORTGAGE         6737.50   \n",
       "2                  3.50    LA            OWN         1000.00   \n",
       "3                 19.62    NV       MORTGAGE         7083.33   \n",
       "4                 23.79    OH       MORTGAGE         5833.33   \n",
       "\n",
       "   Open.CREDIT.Lines  Revolving.CREDIT.Balance  \\\n",
       "0               11.0                   15210.0   \n",
       "1               14.0                   19070.0   \n",
       "2               13.0                     893.0   \n",
       "3               12.0                   38194.0   \n",
       "4                6.0                   31061.0   \n",
       "\n",
       "   Inquiries.in.the.Last.6.Months  Employment.Length   data   fico  \n",
       "0                             3.0                5.0  train  722.0  \n",
       "1                             3.0                4.0  train  712.0  \n",
       "2                             1.0                0.5  train  692.0  \n",
       "3                             1.0                NaN  train  712.0  \n",
       "4                             2.0                NaN  train  732.0  "
      ]
     },
     "execution_count": 18,
     "metadata": {},
     "output_type": "execute_result"
    }
   ],
   "source": [
    "ld_all.head()"
   ]
  },
  {
   "cell_type": "code",
   "execution_count": 19,
   "metadata": {},
   "outputs": [
    {
     "data": {
      "text/plain": [
       "36 months    1950\n",
       "60 months     548\n",
       ".               1\n",
       "Name: Loan.Length, dtype: int64"
      ]
     },
     "execution_count": 19,
     "metadata": {},
     "output_type": "execute_result"
    }
   ],
   "source": [
    "ld_all.dtypes\n",
    "ld_all[\"Loan.Length\"].value_counts()"
   ]
  },
  {
   "cell_type": "code",
   "execution_count": 20,
   "metadata": {},
   "outputs": [
    {
     "data": {
      "text/plain": [
       "Index(['Loan.Length', 'Loan.Purpose', 'State', 'Home.Ownership', 'data'], dtype='object')"
      ]
     },
     "execution_count": 20,
     "metadata": {},
     "output_type": "execute_result"
    }
   ],
   "source": [
    "#Note that to apply string function on pandas data frame columns you need to str attribute\n",
    "cat_cols=ld_all.select_dtypes(['object']).columns\n",
    "cat_cols"
   ]
  },
  {
   "cell_type": "code",
   "execution_count": 21,
   "metadata": {},
   "outputs": [],
   "source": [
    "#label encoding - loan.length=36 will be encoded as 0, 60 as 1\n",
    "ld_all.loc[ld_all['Loan.Length']=='.','Loan.Length'] = '36 months'\n",
    "\n",
    "ld_all['loan_period'] = 0 #new col; treat all loan_periods as 36 months\n",
    "\n",
    "ld_all.loc[ld_all['Loan.Length']=='60 months','loan_period'] = 1 #replace loan.length=60 months by 1\n",
    "\n",
    "del ld_all['Loan.Length']"
   ]
  },
  {
   "cell_type": "code",
   "execution_count": 22,
   "metadata": {},
   "outputs": [
    {
     "name": "stdout",
     "output_type": "stream",
     "text": [
      "['debt_consolidation' 'major_purchase' 'credit_card' 'small_business'\n",
      " 'home_improvement' 'other' 'car' 'moving' 'house' 'educational'\n",
      " 'vacation' 'wedding' 'medical' nan 'renewable_energy']\n",
      "(2500, 14)\n"
     ]
    },
    {
     "data": {
      "text/html": [
       "<div>\n",
       "<style scoped>\n",
       "    .dataframe tbody tr th:only-of-type {\n",
       "        vertical-align: middle;\n",
       "    }\n",
       "\n",
       "    .dataframe tbody tr th {\n",
       "        vertical-align: top;\n",
       "    }\n",
       "\n",
       "    .dataframe thead th {\n",
       "        text-align: right;\n",
       "    }\n",
       "</style>\n",
       "<table border=\"1\" class=\"dataframe\">\n",
       "  <thead>\n",
       "    <tr style=\"text-align: right;\">\n",
       "      <th></th>\n",
       "      <th>car</th>\n",
       "      <th>credit_card</th>\n",
       "      <th>debt_consolidation</th>\n",
       "      <th>educational</th>\n",
       "      <th>home_improvement</th>\n",
       "      <th>house</th>\n",
       "      <th>major_purchase</th>\n",
       "      <th>medical</th>\n",
       "      <th>moving</th>\n",
       "      <th>other</th>\n",
       "      <th>renewable_energy</th>\n",
       "      <th>small_business</th>\n",
       "      <th>vacation</th>\n",
       "      <th>wedding</th>\n",
       "    </tr>\n",
       "  </thead>\n",
       "  <tbody>\n",
       "    <tr>\n",
       "      <th>0</th>\n",
       "      <td>0</td>\n",
       "      <td>0</td>\n",
       "      <td>1</td>\n",
       "      <td>0</td>\n",
       "      <td>0</td>\n",
       "      <td>0</td>\n",
       "      <td>0</td>\n",
       "      <td>0</td>\n",
       "      <td>0</td>\n",
       "      <td>0</td>\n",
       "      <td>0</td>\n",
       "      <td>0</td>\n",
       "      <td>0</td>\n",
       "      <td>0</td>\n",
       "    </tr>\n",
       "    <tr>\n",
       "      <th>1</th>\n",
       "      <td>0</td>\n",
       "      <td>0</td>\n",
       "      <td>1</td>\n",
       "      <td>0</td>\n",
       "      <td>0</td>\n",
       "      <td>0</td>\n",
       "      <td>0</td>\n",
       "      <td>0</td>\n",
       "      <td>0</td>\n",
       "      <td>0</td>\n",
       "      <td>0</td>\n",
       "      <td>0</td>\n",
       "      <td>0</td>\n",
       "      <td>0</td>\n",
       "    </tr>\n",
       "    <tr>\n",
       "      <th>2</th>\n",
       "      <td>0</td>\n",
       "      <td>0</td>\n",
       "      <td>0</td>\n",
       "      <td>0</td>\n",
       "      <td>0</td>\n",
       "      <td>0</td>\n",
       "      <td>1</td>\n",
       "      <td>0</td>\n",
       "      <td>0</td>\n",
       "      <td>0</td>\n",
       "      <td>0</td>\n",
       "      <td>0</td>\n",
       "      <td>0</td>\n",
       "      <td>0</td>\n",
       "    </tr>\n",
       "    <tr>\n",
       "      <th>3</th>\n",
       "      <td>0</td>\n",
       "      <td>1</td>\n",
       "      <td>0</td>\n",
       "      <td>0</td>\n",
       "      <td>0</td>\n",
       "      <td>0</td>\n",
       "      <td>0</td>\n",
       "      <td>0</td>\n",
       "      <td>0</td>\n",
       "      <td>0</td>\n",
       "      <td>0</td>\n",
       "      <td>0</td>\n",
       "      <td>0</td>\n",
       "      <td>0</td>\n",
       "    </tr>\n",
       "    <tr>\n",
       "      <th>4</th>\n",
       "      <td>0</td>\n",
       "      <td>1</td>\n",
       "      <td>0</td>\n",
       "      <td>0</td>\n",
       "      <td>0</td>\n",
       "      <td>0</td>\n",
       "      <td>0</td>\n",
       "      <td>0</td>\n",
       "      <td>0</td>\n",
       "      <td>0</td>\n",
       "      <td>0</td>\n",
       "      <td>0</td>\n",
       "      <td>0</td>\n",
       "      <td>0</td>\n",
       "    </tr>\n",
       "  </tbody>\n",
       "</table>\n",
       "</div>"
      ],
      "text/plain": [
       "   car  credit_card  debt_consolidation  educational  home_improvement  house  \\\n",
       "0    0            0                   1            0                 0      0   \n",
       "1    0            0                   1            0                 0      0   \n",
       "2    0            0                   0            0                 0      0   \n",
       "3    0            1                   0            0                 0      0   \n",
       "4    0            1                   0            0                 0      0   \n",
       "\n",
       "   major_purchase  medical  moving  other  renewable_energy  small_business  \\\n",
       "0               0        0       0      0                 0               0   \n",
       "1               0        0       0      0                 0               0   \n",
       "2               1        0       0      0                 0               0   \n",
       "3               0        0       0      0                 0               0   \n",
       "4               0        0       0      0                 0               0   \n",
       "\n",
       "   vacation  wedding  \n",
       "0         0        0  \n",
       "1         0        0  \n",
       "2         0        0  \n",
       "3         0        0  \n",
       "4         0        0  "
      ]
     },
     "execution_count": 22,
     "metadata": {},
     "output_type": "execute_result"
    }
   ],
   "source": [
    "#ld_all['Loan.Purpose'].value_counts()\n",
    "print(ld_all[\"Loan.Purpose\"].unique())\n",
    "k = pd.get_dummies(ld_all['Loan.Purpose'])\n",
    "\n",
    "print(k.shape)\n",
    "k.head()"
   ]
  },
  {
   "cell_type": "code",
   "execution_count": 23,
   "metadata": {},
   "outputs": [],
   "source": [
    "ld_all.shape\n",
    "\n",
    "del ld_all['Loan.Purpose']\n",
    "\n",
    "ld_all = pd.concat([ld_all,k],axis=1)"
   ]
  },
  {
   "cell_type": "code",
   "execution_count": 24,
   "metadata": {},
   "outputs": [
    {
     "data": {
      "text/plain": [
       "Amount.Requested                  float64\n",
       "Interest.Rate                     float64\n",
       "Debt.To.Income.Ratio              float64\n",
       "State                              object\n",
       "Home.Ownership                     object\n",
       "Monthly.Income                    float64\n",
       "Open.CREDIT.Lines                 float64\n",
       "Revolving.CREDIT.Balance          float64\n",
       "Inquiries.in.the.Last.6.Months    float64\n",
       "Employment.Length                 float64\n",
       "data                               object\n",
       "fico                              float64\n",
       "loan_period                         int64\n",
       "car                                 uint8\n",
       "credit_card                         uint8\n",
       "debt_consolidation                  uint8\n",
       "educational                         uint8\n",
       "home_improvement                    uint8\n",
       "house                               uint8\n",
       "major_purchase                      uint8\n",
       "medical                             uint8\n",
       "moving                              uint8\n",
       "other                               uint8\n",
       "renewable_energy                    uint8\n",
       "small_business                      uint8\n",
       "vacation                            uint8\n",
       "wedding                             uint8\n",
       "dtype: object"
      ]
     },
     "execution_count": 24,
     "metadata": {},
     "output_type": "execute_result"
    }
   ],
   "source": [
    "ld_all.dtypes"
   ]
  },
  {
   "cell_type": "code",
   "execution_count": 25,
   "metadata": {},
   "outputs": [
    {
     "data": {
      "text/plain": [
       "Amount.Requested                  float64\n",
       "Interest.Rate                     float64\n",
       "Debt.To.Income.Ratio              float64\n",
       "Home.Ownership                     object\n",
       "Monthly.Income                    float64\n",
       "Open.CREDIT.Lines                 float64\n",
       "Revolving.CREDIT.Balance          float64\n",
       "Inquiries.in.the.Last.6.Months    float64\n",
       "Employment.Length                 float64\n",
       "data                               object\n",
       "fico                              float64\n",
       "loan_period                         int64\n",
       "car                                 uint8\n",
       "credit_card                         uint8\n",
       "debt_consolidation                  uint8\n",
       "educational                         uint8\n",
       "home_improvement                    uint8\n",
       "house                               uint8\n",
       "major_purchase                      uint8\n",
       "medical                             uint8\n",
       "moving                              uint8\n",
       "other                               uint8\n",
       "renewable_energy                    uint8\n",
       "small_business                      uint8\n",
       "vacation                            uint8\n",
       "wedding                             uint8\n",
       "dtype: object"
      ]
     },
     "execution_count": 25,
     "metadata": {},
     "output_type": "execute_result"
    }
   ],
   "source": [
    "del ld_all['State']\n",
    "ld_all.dtypes"
   ]
  },
  {
   "cell_type": "code",
   "execution_count": 26,
   "metadata": {},
   "outputs": [
    {
     "name": "stdout",
     "output_type": "stream",
     "text": [
      "MORTGAGE    1147\n",
      "RENT        1146\n",
      "OWN          200\n",
      "OTHER          5\n",
      "NONE           1\n",
      "Name: Home.Ownership, dtype: int64\n"
     ]
    }
   ],
   "source": [
    "print(ld_all['Home.Ownership'].value_counts())\n",
    "\n",
    "ld_all.loc[ld_all['Home.Ownership'].isin(['OTHER','NONE']),'Home.Ownership'] = 'RENT'\n",
    "\n",
    "k = pd.get_dummies(ld_all['Home.Ownership'])\n",
    "\n",
    "del ld_all['Home.Ownership']\n",
    "\n",
    "ld_all = pd.concat([ld_all,k],axis=1)"
   ]
  },
  {
   "cell_type": "code",
   "execution_count": 27,
   "metadata": {},
   "outputs": [
    {
     "data": {
      "text/plain": [
       "(2500, 28)"
      ]
     },
     "execution_count": 27,
     "metadata": {},
     "output_type": "execute_result"
    }
   ],
   "source": [
    "ld_all.shape"
   ]
  },
  {
   "cell_type": "code",
   "execution_count": 28,
   "metadata": {},
   "outputs": [
    {
     "data": {
      "text/plain": [
       "Amount.Requested                    5\n",
       "Interest.Rate                     300\n",
       "Debt.To.Income.Ratio                1\n",
       "Monthly.Income                      3\n",
       "Open.CREDIT.Lines                   9\n",
       "Revolving.CREDIT.Balance            5\n",
       "Inquiries.in.the.Last.6.Months      3\n",
       "Employment.Length                 731\n",
       "data                                0\n",
       "fico                                0\n",
       "loan_period                         0\n",
       "car                                 0\n",
       "credit_card                         0\n",
       "debt_consolidation                  0\n",
       "educational                         0\n",
       "home_improvement                    0\n",
       "house                               0\n",
       "major_purchase                      0\n",
       "medical                             0\n",
       "moving                              0\n",
       "other                               0\n",
       "renewable_energy                    0\n",
       "small_business                      0\n",
       "vacation                            0\n",
       "wedding                             0\n",
       "MORTGAGE                            0\n",
       "OWN                                 0\n",
       "RENT                                0\n",
       "dtype: int64"
      ]
     },
     "execution_count": 28,
     "metadata": {},
     "output_type": "execute_result"
    }
   ],
   "source": [
    "ld_all.isnull().sum()"
   ]
  },
  {
   "cell_type": "code",
   "execution_count": 29,
   "metadata": {},
   "outputs": [],
   "source": [
    "for col in ld_all.columns:\n",
    "    if (col not in ['Interest.Rate','data'])& (ld_all[col].isnull().sum()>0):\n",
    "        ld_all.loc[ld_all[col].isnull(),col]=ld_all.loc[ld_all['data']=='train',col].mean()"
   ]
  },
  {
   "cell_type": "code",
   "execution_count": 30,
   "metadata": {},
   "outputs": [
    {
     "data": {
      "text/plain": [
       "Amount.Requested                    0\n",
       "Interest.Rate                     300\n",
       "Debt.To.Income.Ratio                0\n",
       "Monthly.Income                      0\n",
       "Open.CREDIT.Lines                   0\n",
       "Revolving.CREDIT.Balance            0\n",
       "Inquiries.in.the.Last.6.Months      0\n",
       "Employment.Length                   0\n",
       "data                                0\n",
       "fico                                0\n",
       "loan_period                         0\n",
       "car                                 0\n",
       "credit_card                         0\n",
       "debt_consolidation                  0\n",
       "educational                         0\n",
       "home_improvement                    0\n",
       "house                               0\n",
       "major_purchase                      0\n",
       "medical                             0\n",
       "moving                              0\n",
       "other                               0\n",
       "renewable_energy                    0\n",
       "small_business                      0\n",
       "vacation                            0\n",
       "wedding                             0\n",
       "MORTGAGE                            0\n",
       "OWN                                 0\n",
       "RENT                                0\n",
       "dtype: int64"
      ]
     },
     "execution_count": 30,
     "metadata": {},
     "output_type": "execute_result"
    }
   ],
   "source": [
    "ld_all.isnull().sum()"
   ]
  },
  {
   "cell_type": "code",
   "execution_count": 31,
   "metadata": {},
   "outputs": [
    {
     "name": "stderr",
     "output_type": "stream",
     "text": [
      "C:\\Users\\saicb\\anaconda3\\lib\\site-packages\\pandas\\core\\frame.py:4163: SettingWithCopyWarning: \n",
      "A value is trying to be set on a copy of a slice from a DataFrame\n",
      "\n",
      "See the caveats in the documentation: https://pandas.pydata.org/pandas-docs/stable/user_guide/indexing.html#returning-a-view-versus-a-copy\n",
      "  return super().drop(\n"
     ]
    }
   ],
   "source": [
    "ld_train=ld_all[ld_all['data']=='train']\n",
    "del ld_train['data']\n",
    "ld_test=ld_all[ld_all['data']=='test']\n",
    "ld_test.drop(['Interest.Rate','data'],axis=1,inplace=True)"
   ]
  },
  {
   "cell_type": "code",
   "execution_count": 32,
   "metadata": {},
   "outputs": [
    {
     "data": {
      "text/html": [
       "<div>\n",
       "<style scoped>\n",
       "    .dataframe tbody tr th:only-of-type {\n",
       "        vertical-align: middle;\n",
       "    }\n",
       "\n",
       "    .dataframe tbody tr th {\n",
       "        vertical-align: top;\n",
       "    }\n",
       "\n",
       "    .dataframe thead th {\n",
       "        text-align: right;\n",
       "    }\n",
       "</style>\n",
       "<table border=\"1\" class=\"dataframe\">\n",
       "  <thead>\n",
       "    <tr style=\"text-align: right;\">\n",
       "      <th></th>\n",
       "      <th>Amount.Requested</th>\n",
       "      <th>Interest.Rate</th>\n",
       "      <th>Debt.To.Income.Ratio</th>\n",
       "      <th>Open.CREDIT.Lines</th>\n",
       "      <th>Revolving.CREDIT.Balance</th>\n",
       "    </tr>\n",
       "  </thead>\n",
       "  <tbody>\n",
       "    <tr>\n",
       "      <th>0</th>\n",
       "      <td>25000.0</td>\n",
       "      <td>18.49</td>\n",
       "      <td>27.56</td>\n",
       "      <td>11.0</td>\n",
       "      <td>15210.0</td>\n",
       "    </tr>\n",
       "    <tr>\n",
       "      <th>1</th>\n",
       "      <td>19750.0</td>\n",
       "      <td>17.27</td>\n",
       "      <td>13.39</td>\n",
       "      <td>14.0</td>\n",
       "      <td>19070.0</td>\n",
       "    </tr>\n",
       "    <tr>\n",
       "      <th>2</th>\n",
       "      <td>2100.0</td>\n",
       "      <td>14.33</td>\n",
       "      <td>3.50</td>\n",
       "      <td>13.0</td>\n",
       "      <td>893.0</td>\n",
       "    </tr>\n",
       "    <tr>\n",
       "      <th>3</th>\n",
       "      <td>28000.0</td>\n",
       "      <td>16.29</td>\n",
       "      <td>19.62</td>\n",
       "      <td>12.0</td>\n",
       "      <td>38194.0</td>\n",
       "    </tr>\n",
       "    <tr>\n",
       "      <th>4</th>\n",
       "      <td>24250.0</td>\n",
       "      <td>12.23</td>\n",
       "      <td>23.79</td>\n",
       "      <td>6.0</td>\n",
       "      <td>31061.0</td>\n",
       "    </tr>\n",
       "  </tbody>\n",
       "</table>\n",
       "</div>"
      ],
      "text/plain": [
       "   Amount.Requested  Interest.Rate  Debt.To.Income.Ratio  Open.CREDIT.Lines  \\\n",
       "0           25000.0          18.49                 27.56               11.0   \n",
       "1           19750.0          17.27                 13.39               14.0   \n",
       "2            2100.0          14.33                  3.50               13.0   \n",
       "3           28000.0          16.29                 19.62               12.0   \n",
       "4           24250.0          12.23                 23.79                6.0   \n",
       "\n",
       "   Revolving.CREDIT.Balance  \n",
       "0                   15210.0  \n",
       "1                   19070.0  \n",
       "2                     893.0  \n",
       "3                   38194.0  \n",
       "4                   31061.0  "
      ]
     },
     "execution_count": 32,
     "metadata": {},
     "output_type": "execute_result"
    }
   ],
   "source": [
    "numeric_data = ld_train[['Amount.Requested', 'Interest.Rate','Debt.To.Income.Ratio',\n",
    "            'Open.CREDIT.Lines','Revolving.CREDIT.Balance']]\n",
    "numeric_data.head()"
   ]
  },
  {
   "cell_type": "code",
   "execution_count": 33,
   "metadata": {},
   "outputs": [
    {
     "data": {
      "image/png": "[encoded data removed]",
      "text/plain": [
       "<Figure size 216x144 with 1 Axes>"
      ]
     },
     "metadata": {
      "needs_background": "light"
     },
     "output_type": "display_data"
    }
   ],
   "source": [
    "indexes = list(numeric_data.index)\n",
    "plt.figure(figsize = (3,2))\n",
    "for cols in numeric_data:\n",
    "  plt.scatter(x = indexes,y = numeric_data[cols])"
   ]
  },
  {
   "cell_type": "code",
   "execution_count": 34,
   "metadata": {},
   "outputs": [],
   "source": [
    "del ld_all"
   ]
  },
  {
   "cell_type": "code",
   "execution_count": 35,
   "metadata": {},
   "outputs": [],
   "source": [
    "from sklearn.model_selection import train_test_split"
   ]
  },
  {
   "cell_type": "code",
   "execution_count": 36,
   "metadata": {},
   "outputs": [],
   "source": [
    "ld_train1,ld_train2=train_test_split(ld_train,test_size=0.2,random_state=2)"
   ]
  },
  {
   "cell_type": "code",
   "execution_count": 37,
   "metadata": {},
   "outputs": [],
   "source": [
    "# Notice that only train data is used for imputing missing values in both train and test \n",
    "\n",
    "x_train1=ld_train1.drop('Interest.Rate',axis=1)\n",
    "y_train1=ld_train1['Interest.Rate']"
   ]
  },
  {
   "cell_type": "code",
   "execution_count": 38,
   "metadata": {},
   "outputs": [],
   "source": [
    "from sklearn.linear_model import LinearRegression"
   ]
  },
  {
   "cell_type": "code",
   "execution_count": 39,
   "metadata": {},
   "outputs": [],
   "source": [
    "lm=LinearRegression()"
   ]
  },
  {
   "cell_type": "code",
   "execution_count": 40,
   "metadata": {},
   "outputs": [
    {
     "data": {
      "text/plain": [
       "LinearRegression()"
      ]
     },
     "execution_count": 40,
     "metadata": {},
     "output_type": "execute_result"
    }
   ],
   "source": [
    "lm.fit(x_train1,y_train1)"
   ]
  },
  {
   "cell_type": "code",
   "execution_count": 41,
   "metadata": {},
   "outputs": [
    {
     "data": {
      "text/plain": [
       "(1760, 26)"
      ]
     },
     "execution_count": 41,
     "metadata": {},
     "output_type": "execute_result"
    }
   ],
   "source": [
    "x_train1.shape"
   ]
  },
  {
   "cell_type": "code",
   "execution_count": 42,
   "metadata": {},
   "outputs": [
    {
     "data": {
      "text/plain": [
       "76.79567820315464"
      ]
     },
     "execution_count": 42,
     "metadata": {},
     "output_type": "execute_result"
    }
   ],
   "source": [
    "lm.intercept_"
   ]
  },
  {
   "cell_type": "code",
   "execution_count": 43,
   "metadata": {},
   "outputs": [
    {
     "data": {
      "text/plain": [
       "[('Amount.Requested', 0.00015673880086880618),\n",
       " ('Debt.To.Income.Ratio', -0.002504982742051878),\n",
       " ('Monthly.Income', -2.568801938990042e-05),\n",
       " ('Open.CREDIT.Lines', -0.03982888557695672),\n",
       " ('Revolving.CREDIT.Balance', -3.7988069148814926e-06),\n",
       " ('Inquiries.in.the.Last.6.Months', 0.3254546481584737),\n",
       " ('Employment.Length', -0.0011139191932678938),\n",
       " ('fico', -0.08691227530878744),\n",
       " ('loan_period', 3.156284619213706),\n",
       " ('car', -1.1973217213338094),\n",
       " ('credit_card', -1.8072419440642526),\n",
       " ('debt_consolidation', -1.6415785862232817),\n",
       " ('educational', -1.0025217124154473),\n",
       " ('home_improvement', -1.533525711726572),\n",
       " ('house', -0.9320664205734587),\n",
       " ('major_purchase', -1.3544218541110433),\n",
       " ('medical', -1.599205590440272),\n",
       " ('moving', 0.10770210110564281),\n",
       " ('other', -0.755138930306778),\n",
       " ('renewable_energy', -1.2080179286946007),\n",
       " ('small_business', -1.157845003952749),\n",
       " ('vacation', -1.4775736200703435),\n",
       " ('wedding', -1.989235492147191),\n",
       " ('MORTGAGE', -3.064216150346139),\n",
       " ('OWN', -2.656599874287597),\n",
       " ('RENT', -2.8697400468099867)]"
      ]
     },
     "execution_count": 43,
     "metadata": {},
     "output_type": "execute_result"
    }
   ],
   "source": [
    "list(zip(x_train1.columns,lm.coef_))"
   ]
  },
  {
   "cell_type": "code",
   "execution_count": 44,
   "metadata": {},
   "outputs": [
    {
     "data": {
      "text/plain": [
       "[('Amount.Requested', 0.00015673880086880618),\n",
       " ('Debt.To.Income.Ratio', -0.002504982742051878),\n",
       " ('Monthly.Income', -2.568801938990042e-05),\n",
       " ('Open.CREDIT.Lines', -0.03982888557695672),\n",
       " ('Revolving.CREDIT.Balance', -3.7988069148814926e-06),\n",
       " ('Inquiries.in.the.Last.6.Months', 0.3254546481584737),\n",
       " ('Employment.Length', -0.0011139191932678938),\n",
       " ('fico', -0.08691227530878744),\n",
       " ('loan_period', 3.156284619213706),\n",
       " ('car', -1.1973217213338094),\n",
       " ('credit_card', -1.8072419440642526),\n",
       " ('debt_consolidation', -1.6415785862232817),\n",
       " ('educational', -1.0025217124154473),\n",
       " ('home_improvement', -1.533525711726572),\n",
       " ('house', -0.9320664205734587),\n",
       " ('major_purchase', -1.3544218541110433),\n",
       " ('medical', -1.599205590440272),\n",
       " ('moving', 0.10770210110564281),\n",
       " ('other', -0.755138930306778),\n",
       " ('renewable_energy', -1.2080179286946007),\n",
       " ('small_business', -1.157845003952749),\n",
       " ('vacation', -1.4775736200703435),\n",
       " ('wedding', -1.989235492147191),\n",
       " ('MORTGAGE', -3.064216150346139),\n",
       " ('OWN', -2.656599874287597),\n",
       " ('RENT', -2.8697400468099867)]"
      ]
     },
     "execution_count": 44,
     "metadata": {},
     "output_type": "execute_result"
    }
   ],
   "source": [
    "list(zip(x_train1.columns,lm.coef_))"
   ]
  },
  {
   "cell_type": "code",
   "execution_count": 45,
   "metadata": {},
   "outputs": [],
   "source": [
    "x_train2=ld_train2.drop('Interest.Rate',axis=1)"
   ]
  },
  {
   "cell_type": "code",
   "execution_count": 46,
   "metadata": {},
   "outputs": [
    {
     "name": "stdout",
     "output_type": "stream",
     "text": [
      "avg error = 1.6137580872453776\n"
     ]
    },
    {
     "data": {
      "text/html": [
       "<div>\n",
       "<style scoped>\n",
       "    .dataframe tbody tr th:only-of-type {\n",
       "        vertical-align: middle;\n",
       "    }\n",
       "\n",
       "    .dataframe tbody tr th {\n",
       "        vertical-align: top;\n",
       "    }\n",
       "\n",
       "    .dataframe thead th {\n",
       "        text-align: right;\n",
       "    }\n",
       "</style>\n",
       "<table border=\"1\" class=\"dataframe\">\n",
       "  <thead>\n",
       "    <tr style=\"text-align: right;\">\n",
       "      <th></th>\n",
       "      <th>Interest.Rate</th>\n",
       "      <th>Pred</th>\n",
       "      <th>Err</th>\n",
       "    </tr>\n",
       "  </thead>\n",
       "  <tbody>\n",
       "    <tr>\n",
       "      <th>2121</th>\n",
       "      <td>18.79</td>\n",
       "      <td>18.943527</td>\n",
       "      <td>0.153527</td>\n",
       "    </tr>\n",
       "    <tr>\n",
       "      <th>960</th>\n",
       "      <td>18.49</td>\n",
       "      <td>15.776127</td>\n",
       "      <td>2.713873</td>\n",
       "    </tr>\n",
       "    <tr>\n",
       "      <th>952</th>\n",
       "      <td>7.49</td>\n",
       "      <td>9.795592</td>\n",
       "      <td>2.305592</td>\n",
       "    </tr>\n",
       "    <tr>\n",
       "      <th>1958</th>\n",
       "      <td>9.91</td>\n",
       "      <td>11.202996</td>\n",
       "      <td>1.292996</td>\n",
       "    </tr>\n",
       "    <tr>\n",
       "      <th>681</th>\n",
       "      <td>18.25</td>\n",
       "      <td>15.942980</td>\n",
       "      <td>2.307020</td>\n",
       "    </tr>\n",
       "  </tbody>\n",
       "</table>\n",
       "</div>"
      ],
      "text/plain": [
       "      Interest.Rate       Pred       Err\n",
       "2121          18.79  18.943527  0.153527\n",
       "960           18.49  15.776127  2.713873\n",
       "952            7.49   9.795592  2.305592\n",
       "1958           9.91  11.202996  1.292996\n",
       "681           18.25  15.942980  2.307020"
      ]
     },
     "execution_count": 46,
     "metadata": {},
     "output_type": "execute_result"
    }
   ],
   "source": [
    "predicted_ir=lm.predict(x_train2)\n",
    "\n",
    "err_df = pd.DataFrame(ld_train2['Interest.Rate'])\n",
    "err_df[\"Pred\"] = predicted_ir\n",
    "\n",
    "err_df[\"Err\"] = abs(err_df[\"Pred\"] - err_df[\"Interest.Rate\"])\n",
    "print(f\"avg error = {err_df['Err'].mean()}\")\n",
    "err_df.head()\n"
   ]
  },
  {
   "cell_type": "code",
   "execution_count": 47,
   "metadata": {},
   "outputs": [],
   "source": [
    "from sklearn.metrics import mean_absolute_error"
   ]
  },
  {
   "cell_type": "code",
   "execution_count": 48,
   "metadata": {},
   "outputs": [
    {
     "data": {
      "text/plain": [
       "1.6137580872453778"
      ]
     },
     "execution_count": 48,
     "metadata": {},
     "output_type": "execute_result"
    }
   ],
   "source": [
    "mean_absolute_error(ld_train2['Interest.Rate'],predicted_ir)"
   ]
  },
  {
   "cell_type": "code",
   "execution_count": 49,
   "metadata": {},
   "outputs": [],
   "source": [
    "x_train=ld_train.drop('Interest.Rate',axis=1)\n",
    "y_train=ld_train['Interest.Rate']"
   ]
  },
  {
   "cell_type": "code",
   "execution_count": 50,
   "metadata": {},
   "outputs": [
    {
     "data": {
      "text/plain": [
       "LinearRegression()"
      ]
     },
     "execution_count": 50,
     "metadata": {},
     "output_type": "execute_result"
    }
   ],
   "source": [
    "lm.fit(x_train,y_train)"
   ]
  },
  {
   "cell_type": "code",
   "execution_count": 51,
   "metadata": {},
   "outputs": [],
   "source": [
    "test_pred=lm.predict(ld_test)"
   ]
  },
  {
   "cell_type": "code",
   "execution_count": 52,
   "metadata": {},
   "outputs": [
    {
     "data": {
      "text/plain": [
       "array([16.76569243, 15.88332555, 10.31401325,  3.68733227, 15.32171584,\n",
       "        7.12003823, 15.91460744, 10.74031718, 15.84603579, 12.20003786,\n",
       "        9.72130518, 14.91173167, 11.72915982, 13.70637129, 13.62240921,\n",
       "       18.3575554 , 10.50635428, 15.77031502, 13.8010982 , 14.07317086,\n",
       "       22.24959158, 17.86113146, 12.29238366, 14.89098412,  9.630536  ,\n",
       "       10.6624372 , 12.98733686, 19.57305117, 12.37121474, 16.476947  ,\n",
       "       15.2465869 , 15.2270354 , 12.45607176, 15.00190231, 13.65393143,\n",
       "       14.23224154, 19.40179907, 10.79105972, 11.45330155, 16.37912565,\n",
       "       14.12958388, 11.28454404, 14.65381913, 13.08975595, 15.96123696,\n",
       "       16.87722065, 15.23860786, 16.61350227, 16.95407135, 10.52731517,\n",
       "       13.76213568, 19.80541616,  9.47612806, 19.66349835, 15.73872256,\n",
       "       14.84512264, 17.90176028, 14.86096207, 10.87794866, 14.8253772 ,\n",
       "       13.36212098, 17.05118033,  8.77901264, 14.44030503, 10.03192286,\n",
       "       11.37715164, 12.84644214, 14.97760189, 11.61591516, 14.53676077,\n",
       "       14.43309721, 17.54604989, 20.5231674 , 19.70278069, 13.23897467,\n",
       "       16.91626273, 11.08997531, 10.14646058, 16.87912146,  6.83284336,\n",
       "       16.08705885, 10.30881225,  9.3936508 , 13.07203404, 13.92904741,\n",
       "        9.71715979,  9.39397238, 14.29677896,  8.3561677 , 11.87931974,\n",
       "       12.23518077, 16.27756852, 13.3759798 , 17.864813  , 14.37479267,\n",
       "       10.45281362, 10.41747936, 17.06482473, 16.78370402, 13.30845945,\n",
       "       15.45496066, 13.55032354, 15.26516925, 14.84655289, 12.98561871,\n",
       "       12.38869167,  8.69404259, 11.34480523, 10.84364438, 13.41164304,\n",
       "       11.87756742, 20.36633484,  7.65138614, 16.96545646, 15.55886941,\n",
       "        6.57281914, 13.43747729, 14.42243756, 14.84264961,  9.47258561,\n",
       "       16.03485067, 14.10411562,  9.02686869, 12.50364725, 17.10899782,\n",
       "       16.02404223,  8.33839707, 19.0851888 ,  3.39603083, 12.29747787,\n",
       "       14.03953344, 12.501833  ,  9.89050942, 14.11697387, 18.7634281 ,\n",
       "       14.24103691, 15.51655579, 13.40310416, 12.58000043,  9.41518732,\n",
       "       14.14031306, 13.76891779, 11.77612772, 11.72603472, 11.62432261,\n",
       "       16.4741627 , 12.10078015, 10.6841168 ,  7.75120458, 10.02585976,\n",
       "       11.51283028, 13.6996021 , 10.35036017,  7.75544062, 14.1740882 ,\n",
       "       12.31836429, 11.24125525,  8.24327195, 14.47126395, 14.79477145,\n",
       "       14.19092927,  7.15839818, 15.27621369, 18.13339099, 15.3409016 ,\n",
       "       16.01285154, 14.13246266,  9.96877622, 13.77636426, 16.74326714,\n",
       "       13.99051856, 13.04446862,  6.92750677, 13.66830112, 10.26119276,\n",
       "       10.27386335, 11.16749556,  8.67409765,  9.00750629, 11.90916622,\n",
       "       13.37402386, 14.37789938, 10.49823868, 13.6634941 , 10.70551346,\n",
       "       14.4281295 ,  8.45489717, 17.79478869, 13.6679758 ,  9.42668137,\n",
       "        7.58213352, 11.17290206, 15.3927251 , 15.70347317, 14.41832931,\n",
       "       17.57021643,  9.94777494, 19.0282846 ,  5.05175289, 14.06249005,\n",
       "       13.86379462, 12.49001603, 17.50319764, 16.47402428,  4.88257891,\n",
       "       15.49388675, 14.89207046, 20.02976876, 16.24437997,  8.92702131,\n",
       "       14.77822885, 11.67378125, 12.254668  , 13.95201557, 10.68276785,\n",
       "       12.30774633, 13.34549808, 20.20243476, 13.37043123,  6.60409834,\n",
       "        5.54489356,  9.81224625, 17.36503509, 11.53244435, 15.83070421,\n",
       "       14.72421735, 11.59802687, 11.79758696, 12.90750837, 10.67003839,\n",
       "       11.79756937, 14.35347332, 12.11835596, 16.0906433 ,  7.66210646,\n",
       "       10.7516324 , 13.50214502, 10.76801315,  4.89902302, 20.26972915,\n",
       "       14.23751558, 19.83427389,  7.7862996 , 20.7592587 , 12.66052958,\n",
       "       12.26439994, 19.92158114,  9.17158894,  7.79464475, 13.43119089,\n",
       "       15.97205368, 15.2119857 , 10.73904079, 14.05518346, 15.01135316,\n",
       "       18.76055051, 11.52350072,  8.03282838, 12.80618744, 18.14138332,\n",
       "       16.80692702, 13.5308327 , 18.30554187,  7.65559176, 20.00563119,\n",
       "        8.56304502, 15.6112856 , 10.82004544,  4.56377575, 14.99158262,\n",
       "       13.57879795, 12.9770827 ,  6.9115301 , 11.00189142,  9.81421915,\n",
       "        6.68786418, 14.27826051, 14.11798588, 11.09008792, 14.58167241,\n",
       "       17.27960806, 20.17155859, 16.30743091, 14.20654365, 15.50160066,\n",
       "        8.05515341, 12.92294054, 13.38889495, 10.88318897, 11.88884676,\n",
       "       14.37912849, 10.21849917, 14.56565778,  9.10503086,  7.23956971,\n",
       "       15.82735729, 11.13331108, 14.50374739, 17.80001067, 13.59181197])"
      ]
     },
     "execution_count": 52,
     "metadata": {},
     "output_type": "execute_result"
    }
   ],
   "source": [
    "test_pred"
   ]
  },
  {
   "cell_type": "code",
   "execution_count": 53,
   "metadata": {},
   "outputs": [],
   "source": [
    "pd.DataFrame(test_pred).to_csv(\"mysubmission.csv\",index=False)"
   ]
  }
 ],
 "metadata": {
  "kernelspec": {
   "display_name": "Python 3",
   "language": "python",
   "name": "python3"
  },
  "language_info": {
   "codemirror_mode": {
    "name": "ipython",
    "version": 3
   },
   "file_extension": ".py",
   "mimetype": "text/x-python",
   "name": "python",
   "nbconvert_exporter": "python",
   "pygments_lexer": "ipython3",
   "version": "3.8.5"
  }
 },
 "nbformat": 4,
 "nbformat_minor": 4
}
